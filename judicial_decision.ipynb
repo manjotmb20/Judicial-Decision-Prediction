{
  "nbformat": 4,
  "nbformat_minor": 0,
  "metadata": {
    "colab": {
      "name": "judicial decision.ipynb",
      "provenance": [],
      "collapsed_sections": [],
      "include_colab_link": true
    },
    "kernelspec": {
      "name": "python3",
      "display_name": "Python 3"
    },
    "accelerator": "GPU"
  },
  "cells": [
    {
      "cell_type": "markdown",
      "metadata": {
        "id": "view-in-github",
        "colab_type": "text"
      },
      "source": [
        "<a href=\"https://colab.research.google.com/github/manjotmb20/Judicial-Decision-Prediction/blob/master/judicial_decision.ipynb\" target=\"_parent\"><img src=\"https://colab.research.google.com/assets/colab-badge.svg\" alt=\"Open In Colab\"/></a>"
      ]
    },
    {
      "cell_type": "code",
      "metadata": {
        "id": "NFdJ6IpQ5YCe",
        "colab_type": "code",
        "colab": {
          "base_uri": "https://localhost:8080/",
          "height": 51
        },
        "outputId": "c50abd4a-05c7-43ab-898a-c0edafd94656"
      },
      "source": [
        "import numpy as np\n",
        "import os\n",
        "import zipfile\n",
        "import pandas as pd\n",
        "import re\n",
        "import nltk\n",
        "nltk.download(\"punkt\")\n",
        "import matplotlib.pyplot as plt\n",
        "import seaborn as sns\n",
        "from nltk.corpus import stopwords\n",
        "import pickle"
      ],
      "execution_count": 72,
      "outputs": [
        {
          "output_type": "stream",
          "text": [
            "[nltk_data] Downloading package punkt to /root/nltk_data...\n",
            "[nltk_data]   Package punkt is already up-to-date!\n"
          ],
          "name": "stdout"
        }
      ]
    },
    {
      "cell_type": "code",
      "metadata": {
        "id": "KbW2vPb296ca",
        "colab_type": "code",
        "colab": {}
      },
      "source": [
        "from keras.preprocessing.text import Tokenizer\n",
        "from sklearn.feature_extraction.text import TfidfVectorizer\n",
        "from sklearn.feature_extraction.text import CountVectorizer\n",
        "from sklearn.preprocessing import LabelEncoder\n",
        "from sklearn.model_selection import train_test_split"
      ],
      "execution_count": 0,
      "outputs": []
    },
    {
      "cell_type": "code",
      "metadata": {
        "id": "52EHJ4P09Pjy",
        "colab_type": "code",
        "colab": {}
      },
      "source": [
        "zipref=zipfile.ZipFile(\"data.zip\")\n",
        "zipref.extractall()\n",
        "zipref.close()"
      ],
      "execution_count": 0,
      "outputs": []
    },
    {
      "cell_type": "code",
      "metadata": {
        "id": "AYSn1S2v9XU5",
        "colab_type": "code",
        "colab": {}
      },
      "source": [
        "violation=\"../content/data/violation/\"\n",
        "nonviolation=\"../content/data/non-violation/\""
      ],
      "execution_count": 0,
      "outputs": []
    },
    {
      "cell_type": "code",
      "metadata": {
        "id": "LURyDQvI_Ih7",
        "colab_type": "code",
        "colab": {}
      },
      "source": [
        "ventry=os.listdir(violation)\n",
        "nventry=os.listdir(nonviolation)"
      ],
      "execution_count": 0,
      "outputs": []
    },
    {
      "cell_type": "code",
      "metadata": {
        "id": "QbI8nL5k_QoC",
        "colab_type": "code",
        "colab": {}
      },
      "source": [
        "df=pd.DataFrame()\n",
        "df2=pd.DataFrame()\n",
        "df[\"name\"]=ventry\n",
        "df2[\"name\"]=nventry"
      ],
      "execution_count": 0,
      "outputs": []
    },
    {
      "cell_type": "code",
      "metadata": {
        "id": "u7JD2TVPwhhU",
        "colab_type": "code",
        "colab": {}
      },
      "source": [
        ""
      ],
      "execution_count": 0,
      "outputs": []
    },
    {
      "cell_type": "code",
      "metadata": {
        "id": "F579SoM6_Vh6",
        "colab_type": "code",
        "colab": {}
      },
      "source": [
        "df2[\"judging\"]=\"\"\n",
        "df[\"judging\"]=\"\"\n",
        "for i in range(len(df)):\n",
        "    df[\"judging\"][i]=\"violation\"\n",
        "for i in range(len(df2)):\n",
        "    df2[\"judging\"][i]=\"nonviolation\"    \n",
        "  \n",
        "\n"
      ],
      "execution_count": 0,
      "outputs": []
    },
    {
      "cell_type": "code",
      "metadata": {
        "id": "xZxM-0sQB0ZC",
        "colab_type": "code",
        "outputId": "9cde0c61-1081-4b02-ebbd-76a0f8525175",
        "colab": {
          "base_uri": "https://localhost:8080/",
          "height": 419
        }
      },
      "source": [
        "df=df.append(df2)\n",
        "df"
      ],
      "execution_count": 79,
      "outputs": [
        {
          "output_type": "execute_result",
          "data": {
            "text/html": [
              "<div>\n",
              "<style scoped>\n",
              "    .dataframe tbody tr th:only-of-type {\n",
              "        vertical-align: middle;\n",
              "    }\n",
              "\n",
              "    .dataframe tbody tr th {\n",
              "        vertical-align: top;\n",
              "    }\n",
              "\n",
              "    .dataframe thead th {\n",
              "        text-align: right;\n",
              "    }\n",
              "</style>\n",
              "<table border=\"1\" class=\"dataframe\">\n",
              "  <thead>\n",
              "    <tr style=\"text-align: right;\">\n",
              "      <th></th>\n",
              "      <th>name</th>\n",
              "      <th>judging</th>\n",
              "    </tr>\n",
              "  </thead>\n",
              "  <tbody>\n",
              "    <tr>\n",
              "      <th>0</th>\n",
              "      <td>001-122889.txt</td>\n",
              "      <td>violation</td>\n",
              "    </tr>\n",
              "    <tr>\n",
              "      <th>1</th>\n",
              "      <td>001-93382.txt</td>\n",
              "      <td>violation</td>\n",
              "    </tr>\n",
              "    <tr>\n",
              "      <th>2</th>\n",
              "      <td>001-83480.txt</td>\n",
              "      <td>violation</td>\n",
              "    </tr>\n",
              "    <tr>\n",
              "      <th>3</th>\n",
              "      <td>001-110543.txt</td>\n",
              "      <td>violation</td>\n",
              "    </tr>\n",
              "    <tr>\n",
              "      <th>4</th>\n",
              "      <td>001-160863.txt</td>\n",
              "      <td>violation</td>\n",
              "    </tr>\n",
              "    <tr>\n",
              "      <th>...</th>\n",
              "      <td>...</td>\n",
              "      <td>...</td>\n",
              "    </tr>\n",
              "    <tr>\n",
              "      <th>52</th>\n",
              "      <td>001-155359.txt</td>\n",
              "      <td>nonviolation</td>\n",
              "    </tr>\n",
              "    <tr>\n",
              "      <th>53</th>\n",
              "      <td>001-139175.txt</td>\n",
              "      <td>nonviolation</td>\n",
              "    </tr>\n",
              "    <tr>\n",
              "      <th>54</th>\n",
              "      <td>001-142737.txt</td>\n",
              "      <td>nonviolation</td>\n",
              "    </tr>\n",
              "    <tr>\n",
              "      <th>55</th>\n",
              "      <td>001-60707.txt</td>\n",
              "      <td>nonviolation</td>\n",
              "    </tr>\n",
              "    <tr>\n",
              "      <th>56</th>\n",
              "      <td>001-100903.txt</td>\n",
              "      <td>nonviolation</td>\n",
              "    </tr>\n",
              "  </tbody>\n",
              "</table>\n",
              "<p>114 rows × 2 columns</p>\n",
              "</div>"
            ],
            "text/plain": [
              "              name       judging\n",
              "0   001-122889.txt     violation\n",
              "1    001-93382.txt     violation\n",
              "2    001-83480.txt     violation\n",
              "3   001-110543.txt     violation\n",
              "4   001-160863.txt     violation\n",
              "..             ...           ...\n",
              "52  001-155359.txt  nonviolation\n",
              "53  001-139175.txt  nonviolation\n",
              "54  001-142737.txt  nonviolation\n",
              "55   001-60707.txt  nonviolation\n",
              "56  001-100903.txt  nonviolation\n",
              "\n",
              "[114 rows x 2 columns]"
            ]
          },
          "metadata": {
            "tags": []
          },
          "execution_count": 79
        }
      ]
    },
    {
      "cell_type": "code",
      "metadata": {
        "id": "sWVAGAl8xsXy",
        "colab_type": "code",
        "colab": {}
      },
      "source": [
        "def clean_text1(text):\n",
        "  text=re.sub(\"\\'()\",\"\",text)\n",
        "  text=re.sub(\"[^a-zA-Z]\",\" \",text)\n",
        "  text=' '.join(text.split())\n",
        "  text=text.lower()\n",
        "  return text  "
      ],
      "execution_count": 0,
      "outputs": []
    },
    {
      "cell_type": "code",
      "metadata": {
        "id": "c0TGje89wjVo",
        "colab_type": "code",
        "colab": {}
      },
      "source": [
        "violationlist=[]\n",
        "for row in ventry:\n",
        "  f=open(violation+row,\"r\",encoding = \"ISO-8859-1\").read()\n",
        "  violationlist.append(clean_text1(f))\n",
        "\n"
      ],
      "execution_count": 0,
      "outputs": []
    },
    {
      "cell_type": "code",
      "metadata": {
        "id": "SvRHmzcU0Ykb",
        "colab_type": "code",
        "colab": {}
      },
      "source": [
        "for row in nventry:\n",
        "  f=open(nonviolation+row,\"r\",encoding = \"ISO-8859-1\").read()\n",
        "  violationlist.append(clean_text1(f))"
      ],
      "execution_count": 0,
      "outputs": []
    },
    {
      "cell_type": "code",
      "metadata": {
        "id": "GNpA00M_0f5C",
        "colab_type": "code",
        "colab": {}
      },
      "source": [
        "df[\"cases\"]=violationlist"
      ],
      "execution_count": 0,
      "outputs": []
    },
    {
      "cell_type": "code",
      "metadata": {
        "id": "VmKiNyz_8OT5",
        "colab_type": "code",
        "colab": {
          "base_uri": "https://localhost:8080/",
          "height": 51
        },
        "outputId": "7ff70b42-5c93-40f6-b70c-7750d5c55be0"
      },
      "source": [
        "nltk.download('stopwords')\n",
        "stop_words = set(stopwords.words('english'))\n",
        "def remove_stopwords(text):\n",
        "  no_stopwords=[w for w in text.split() if not w in stop_words]\n",
        "  return ' '.join(no_stopwords)\n",
        "df[\"cases\"]=df[\"cases\"].apply(lambda x: remove_stopwords(x))"
      ],
      "execution_count": 84,
      "outputs": [
        {
          "output_type": "stream",
          "text": [
            "[nltk_data] Downloading package stopwords to /root/nltk_data...\n",
            "[nltk_data]   Package stopwords is already up-to-date!\n"
          ],
          "name": "stdout"
        }
      ]
    },
    {
      "cell_type": "code",
      "metadata": {
        "id": "6rIToz3o188c",
        "colab_type": "code",
        "colab": {
          "base_uri": "https://localhost:8080/",
          "height": 877
        },
        "outputId": "3b45ca22-ee75-4882-ebc7-c70ebbd7bb44"
      },
      "source": [
        "def freq_words(x, terms = 30): \n",
        "  all_words = ' '.join([text for text in x]) \n",
        "  all_words = all_words.split() \n",
        "  fdist = nltk.FreqDist(all_words) \n",
        "  words_df = pd.DataFrame({'word':list(fdist.keys()), 'count':list(fdist.values())}) \n",
        "  \n",
        "  \n",
        "  d = words_df.nlargest(columns=\"count\", n = terms) \n",
        "  \n",
        " \n",
        "  plt.figure(figsize=(12,15)) \n",
        "  ax = sns.barplot(data=d, x= \"count\", y = \"word\") \n",
        "  ax.set(ylabel = 'Word') \n",
        "  plt.show()\n",
        "  \n",
        "\n",
        "freq_words(df[\"cases\"], 50)"
      ],
      "execution_count": 85,
      "outputs": [
        {
          "output_type": "display_data",
          "data": {
            "image/png": "[encoded data removed]",
            "text/plain": [
              "<Figure size 864x1080 with 1 Axes>"
            ]
          },
          "metadata": {
            "tags": []
          }
        }
      ]
    },
    {
      "cell_type": "code",
      "metadata": {
        "id": "PP7Vd4cM3yGK",
        "colab_type": "code",
        "colab": {}
      },
      "source": [
        "lc=LabelEncoder()\n",
        "df[\"judging\"]=lc.fit_transform(df[\"judging\"])"
      ],
      "execution_count": 0,
      "outputs": []
    },
    {
      "cell_type": "code",
      "metadata": {
        "id": "d0-WgoktABXw",
        "colab_type": "code",
        "colab": {
          "base_uri": "https://localhost:8080/",
          "height": 204
        },
        "outputId": "f74bae90-6eb3-4578-aec4-802e10b65d2d"
      },
      "source": [
        "df.tail()"
      ],
      "execution_count": 87,
      "outputs": [
        {
          "output_type": "execute_result",
          "data": {
            "text/html": [
              "<div>\n",
              "<style scoped>\n",
              "    .dataframe tbody tr th:only-of-type {\n",
              "        vertical-align: middle;\n",
              "    }\n",
              "\n",
              "    .dataframe tbody tr th {\n",
              "        vertical-align: top;\n",
              "    }\n",
              "\n",
              "    .dataframe thead th {\n",
              "        text-align: right;\n",
              "    }\n",
              "</style>\n",
              "<table border=\"1\" class=\"dataframe\">\n",
              "  <thead>\n",
              "    <tr style=\"text-align: right;\">\n",
              "      <th></th>\n",
              "      <th>name</th>\n",
              "      <th>judging</th>\n",
              "      <th>cases</th>\n",
              "    </tr>\n",
              "  </thead>\n",
              "  <tbody>\n",
              "    <tr>\n",
              "      <th>52</th>\n",
              "      <td>001-155359.txt</td>\n",
              "      <td>0</td>\n",
              "      <td>former second section case selahatt n dem rta ...</td>\n",
              "    </tr>\n",
              "    <tr>\n",
              "      <th>53</th>\n",
              "      <td>001-139175.txt</td>\n",
              "      <td>0</td>\n",
              "      <td>fifth section case v sweden application judgme...</td>\n",
              "    </tr>\n",
              "    <tr>\n",
              "      <th>54</th>\n",
              "      <td>001-142737.txt</td>\n",
              "      <td>0</td>\n",
              "      <td>former fifth section case paposhvili v belgium...</td>\n",
              "    </tr>\n",
              "    <tr>\n",
              "      <th>55</th>\n",
              "      <td>001-60707.txt</td>\n",
              "      <td>0</td>\n",
              "      <td>case mastromatteo v italy application judgment...</td>\n",
              "    </tr>\n",
              "    <tr>\n",
              "      <th>56</th>\n",
              "      <td>001-100903.txt</td>\n",
              "      <td>0</td>\n",
              "      <td>fifth section case pankov v bulgaria applicati...</td>\n",
              "    </tr>\n",
              "  </tbody>\n",
              "</table>\n",
              "</div>"
            ],
            "text/plain": [
              "              name  judging                                              cases\n",
              "52  001-155359.txt        0  former second section case selahatt n dem rta ...\n",
              "53  001-139175.txt        0  fifth section case v sweden application judgme...\n",
              "54  001-142737.txt        0  former fifth section case paposhvili v belgium...\n",
              "55   001-60707.txt        0  case mastromatteo v italy application judgment...\n",
              "56  001-100903.txt        0  fifth section case pankov v bulgaria applicati..."
            ]
          },
          "metadata": {
            "tags": []
          },
          "execution_count": 87
        }
      ]
    },
    {
      "cell_type": "code",
      "metadata": {
        "id": "szhkW86zBD9l",
        "colab_type": "code",
        "colab": {}
      },
      "source": [
        "tfidfvectorizer=TfidfVectorizer(max_df=0.8,max_features=2000)\n",
        "x_train,x_val,y_train,y_val=train_test_split(df[\"cases\"],df[\"judging\"],test_size=0.2,random_state=9)\n",
        "xtrain_tfidf=tfidfvectorizer.fit_transform(x_train)\n",
        "xval_tfidf=tfidfvectorizer.transform(x_val)\n"
      ],
      "execution_count": 0,
      "outputs": []
    },
    {
      "cell_type": "code",
      "metadata": {
        "id": "YnIkijcHEVk3",
        "colab_type": "code",
        "colab": {
          "base_uri": "https://localhost:8080/",
          "height": 71
        },
        "outputId": "8737f0c4-2e89-46fd-dedf-2a03ab2fd226"
      },
      "source": [
        "from sklearn.linear_model import LogisticRegression\n",
        "from sklearn.naive_bayes import GaussianNB\n",
        "import xgboost as xgb\n",
        "clf3=xgb.XGBClassifier(learning_rate=0.1,n_estimators=200,max_depth=5,min_child_weight=5,gamma=0,subsample=0.8,colsample_bytree=0.8,reg_alpha=0.005,objective='binary:logistic',n_thread=4,scale_pos_weight=1)\n",
        "clf=LogisticRegression()\n",
        "clf2=GaussianNB()\n",
        "clf.fit(xtrain_tfidf,y_train)\n",
        "clf3.fit(xtrain_tfidf,y_train)\n",
        "from sklearn.metrics import accuracy_score\n",
        "y_pred=clf3.predict(xval_tfidf)\n",
        "\n"
      ],
      "execution_count": 89,
      "outputs": [
        {
          "output_type": "stream",
          "text": [
            "/usr/local/lib/python3.6/dist-packages/sklearn/linear_model/logistic.py:432: FutureWarning: Default solver will be changed to 'lbfgs' in 0.22. Specify a solver to silence this warning.\n",
            "  FutureWarning)\n"
          ],
          "name": "stderr"
        }
      ]
    },
    {
      "cell_type": "code",
      "metadata": {
        "id": "ywpc018OFfFh",
        "colab_type": "code",
        "colab": {
          "base_uri": "https://localhost:8080/",
          "height": 34
        },
        "outputId": "32400a83-2419-4119-a367-f6ebd20ee720"
      },
      "source": [
        "print(accuracy_score(y_val,y_pred))"
      ],
      "execution_count": 90,
      "outputs": [
        {
          "output_type": "stream",
          "text": [
            "0.9130434782608695\n"
          ],
          "name": "stdout"
        }
      ]
    },
    {
      "cell_type": "code",
      "metadata": {
        "id": "nt1dc83MFpeR",
        "colab_type": "code",
        "colab": {
          "base_uri": "https://localhost:8080/",
          "height": 119
        },
        "outputId": "71e8113c-c2ab-4e0a-d78d-d3cb03f33f8e"
      },
      "source": [
        "lc.inverse_transform(y_pred)"
      ],
      "execution_count": 91,
      "outputs": [
        {
          "output_type": "execute_result",
          "data": {
            "text/plain": [
              "array(['nonviolation', 'violation', 'nonviolation', 'nonviolation',\n",
              "       'violation', 'violation', 'violation', 'violation', 'nonviolation',\n",
              "       'nonviolation', 'nonviolation', 'violation', 'nonviolation',\n",
              "       'nonviolation', 'violation', 'violation', 'violation', 'violation',\n",
              "       'violation', 'violation', 'violation', 'violation', 'nonviolation'],\n",
              "      dtype=object)"
            ]
          },
          "metadata": {
            "tags": []
          },
          "execution_count": 91
        }
      ]
    },
    {
      "cell_type": "code",
      "metadata": {
        "id": "_FAUrOGmYVEP",
        "colab_type": "code",
        "colab": {}
      },
      "source": [
        "test=[]\n",
        "t=open(\"test2.txt\",\"r\",encoding=\"ISO-8859-1\").read()\n",
        "test.append(clean_text1(t))\n",
        "dftest=pd.DataFrame()\n",
        "dftest[\"content\"]=test\n",
        "dftest[\"content\"]=dftest[\"content\"].apply(lambda x: remove_stopwords(x))\n",
        "\n",
        "xtest_tfidf=tfidfvectorizer.transform(dftest[\"content\"])\n"
      ],
      "execution_count": 0,
      "outputs": []
    },
    {
      "cell_type": "code",
      "metadata": {
        "id": "9V8FCjw4bqKt",
        "colab_type": "code",
        "colab": {
          "base_uri": "https://localhost:8080/",
          "height": 34
        },
        "outputId": "418a7490-0957-4d77-c3a8-f492052b1ed9"
      },
      "source": [
        "ytest=clf3.predict(xtest_tfidf)\n",
        "print(lc.inverse_transform(ytest))"
      ],
      "execution_count": 93,
      "outputs": [
        {
          "output_type": "stream",
          "text": [
            "['nonviolation']\n"
          ],
          "name": "stdout"
        }
      ]
    },
    {
      "cell_type": "code",
      "metadata": {
        "id": "xTdQ7gAcgC4c",
        "colab_type": "code",
        "colab": {}
      },
      "source": [
        "save_classifier=open(\"classifier.pickle\",\"wb\")\n",
        "pickle.dump(clf3,save_classifier)\n",
        "save_classifier.close()"
      ],
      "execution_count": 0,
      "outputs": []
    },
    {
      "cell_type": "code",
      "metadata": {
        "id": "apt5Go8uocOb",
        "colab_type": "code",
        "colab": {}
      },
      "source": [
        ""
      ],
      "execution_count": 0,
      "outputs": []
    }
  ]
}