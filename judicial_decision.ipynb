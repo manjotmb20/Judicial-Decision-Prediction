{
  "nbformat": 4,
  "nbformat_minor": 0,
  "metadata": {
    "colab": {
      "name": "judicial decision.ipynb",
      "provenance": [],
      "collapsed_sections": [],
      "include_colab_link": true
    },
    "kernelspec": {
      "name": "python3",
      "display_name": "Python 3"
    },
    "accelerator": "GPU"
  },
  "cells": [
    {
      "cell_type": "markdown",
      "metadata": {
        "id": "view-in-github",
        "colab_type": "text"
      },
      "source": [
        "<a href=\"https://colab.research.google.com/github/manjotmb20/Judicial-Decision-Prediction/blob/master/judicial_decision.ipynb\" target=\"_parent\"><img src=\"https://colab.research.google.com/assets/colab-badge.svg\" alt=\"Open In Colab\"/></a>"
      ]
    },
    {
      "cell_type": "code",
      "metadata": {
        "id": "NFdJ6IpQ5YCe",
        "colab_type": "code",
        "colab": {}
      },
      "source": [
        "import numpy as np\n",
        "import os\n",
        "import zipfile\n",
        "import pandas as pd\n"
      ],
      "execution_count": 0,
      "outputs": []
    },
    {
      "cell_type": "code",
      "metadata": {
        "id": "52EHJ4P09Pjy",
        "colab_type": "code",
        "colab": {}
      },
      "source": [
        "zipref=zipfile.ZipFile(\"data.zip\")\n",
        "zipref.extractall()\n",
        "zipref.close()"
      ],
      "execution_count": 0,
      "outputs": []
    },
    {
      "cell_type": "code",
      "metadata": {
        "id": "AYSn1S2v9XU5",
        "colab_type": "code",
        "colab": {}
      },
      "source": [
        "violation=\"../content/data/violation/\"\n",
        "nonviolation=\"../content/data/non-violation/\""
      ],
      "execution_count": 0,
      "outputs": []
    },
    {
      "cell_type": "code",
      "metadata": {
        "id": "LURyDQvI_Ih7",
        "colab_type": "code",
        "colab": {}
      },
      "source": [
        "ventry=os.listdir(violation)\n",
        "nventry=os.listdir(nonviolation)"
      ],
      "execution_count": 0,
      "outputs": []
    },
    {
      "cell_type": "code",
      "metadata": {
        "id": "bT4tKT0nD6sk",
        "colab_type": "code",
        "colab": {
          "base_uri": "https://localhost:8080/",
          "height": 34
        },
        "outputId": "dfc2675b-85ab-464d-f4f7-557d70d1fdb3"
      },
      "source": [
        "len(ventry)"
      ],
      "execution_count": 22,
      "outputs": [
        {
          "output_type": "execute_result",
          "data": {
            "text/plain": [
              "57"
            ]
          },
          "metadata": {
            "tags": []
          },
          "execution_count": 22
        }
      ]
    },
    {
      "cell_type": "code",
      "metadata": {
        "id": "QbI8nL5k_QoC",
        "colab_type": "code",
        "colab": {}
      },
      "source": [
        "df=pd.DataFrame()\n",
        "df2=pd.DataFrame()\n",
        "df[\"name\"]=ventry\n",
        "df2[\"name\"]=nventry"
      ],
      "execution_count": 0,
      "outputs": []
    },
    {
      "cell_type": "code",
      "metadata": {
        "id": "F579SoM6_Vh6",
        "colab_type": "code",
        "colab": {}
      },
      "source": [
        "df2[\"judging\"]=\"\"\n",
        "df[\"judging\"]=\"\"\n",
        "for i in range(len(df)):\n",
        "    df[\"judging\"][i]=\"violation\"\n",
        "for i in range(len(df2)):\n",
        "    df2[\"judging\"][i]=\"nonviolation\"    \n",
        "  \n",
        "\n"
      ],
      "execution_count": 0,
      "outputs": []
    },
    {
      "cell_type": "code",
      "metadata": {
        "id": "xZxM-0sQB0ZC",
        "colab_type": "code",
        "colab": {
          "base_uri": "https://localhost:8080/",
          "height": 419
        },
        "outputId": "665a489a-5fa0-4696-9e01-14337b19581d"
      },
      "source": [
        "df=df.append(df2)\n",
        "df"
      ],
      "execution_count": 42,
      "outputs": [
        {
          "output_type": "execute_result",
          "data": {
            "text/html": [
              "<div>\n",
              "<style scoped>\n",
              "    .dataframe tbody tr th:only-of-type {\n",
              "        vertical-align: middle;\n",
              "    }\n",
              "\n",
              "    .dataframe tbody tr th {\n",
              "        vertical-align: top;\n",
              "    }\n",
              "\n",
              "    .dataframe thead th {\n",
              "        text-align: right;\n",
              "    }\n",
              "</style>\n",
              "<table border=\"1\" class=\"dataframe\">\n",
              "  <thead>\n",
              "    <tr style=\"text-align: right;\">\n",
              "      <th></th>\n",
              "      <th>name</th>\n",
              "      <th>judging</th>\n",
              "    </tr>\n",
              "  </thead>\n",
              "  <tbody>\n",
              "    <tr>\n",
              "      <th>0</th>\n",
              "      <td>001-122889.txt</td>\n",
              "      <td>violation</td>\n",
              "    </tr>\n",
              "    <tr>\n",
              "      <th>1</th>\n",
              "      <td>001-93382.txt</td>\n",
              "      <td>violation</td>\n",
              "    </tr>\n",
              "    <tr>\n",
              "      <th>2</th>\n",
              "      <td>001-83480.txt</td>\n",
              "      <td>violation</td>\n",
              "    </tr>\n",
              "    <tr>\n",
              "      <th>3</th>\n",
              "      <td>001-110543.txt</td>\n",
              "      <td>violation</td>\n",
              "    </tr>\n",
              "    <tr>\n",
              "      <th>4</th>\n",
              "      <td>001-160863.txt</td>\n",
              "      <td>violation</td>\n",
              "    </tr>\n",
              "    <tr>\n",
              "      <th>...</th>\n",
              "      <td>...</td>\n",
              "      <td>...</td>\n",
              "    </tr>\n",
              "    <tr>\n",
              "      <th>52</th>\n",
              "      <td>001-155359.txt</td>\n",
              "      <td>nonviolation</td>\n",
              "    </tr>\n",
              "    <tr>\n",
              "      <th>53</th>\n",
              "      <td>001-139175.txt</td>\n",
              "      <td>nonviolation</td>\n",
              "    </tr>\n",
              "    <tr>\n",
              "      <th>54</th>\n",
              "      <td>001-142737.txt</td>\n",
              "      <td>nonviolation</td>\n",
              "    </tr>\n",
              "    <tr>\n",
              "      <th>55</th>\n",
              "      <td>001-60707.txt</td>\n",
              "      <td>nonviolation</td>\n",
              "    </tr>\n",
              "    <tr>\n",
              "      <th>56</th>\n",
              "      <td>001-100903.txt</td>\n",
              "      <td>nonviolation</td>\n",
              "    </tr>\n",
              "  </tbody>\n",
              "</table>\n",
              "<p>114 rows × 2 columns</p>\n",
              "</div>"
            ],
            "text/plain": [
              "              name       judging\n",
              "0   001-122889.txt     violation\n",
              "1    001-93382.txt     violation\n",
              "2    001-83480.txt     violation\n",
              "3   001-110543.txt     violation\n",
              "4   001-160863.txt     violation\n",
              "..             ...           ...\n",
              "52  001-155359.txt  nonviolation\n",
              "53  001-139175.txt  nonviolation\n",
              "54  001-142737.txt  nonviolation\n",
              "55   001-60707.txt  nonviolation\n",
              "56  001-100903.txt  nonviolation\n",
              "\n",
              "[114 rows x 2 columns]"
            ]
          },
          "metadata": {
            "tags": []
          },
          "execution_count": 42
        }
      ]
    }
  ]
}