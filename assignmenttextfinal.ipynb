{
  "nbformat": 4,
  "nbformat_minor": 0,
  "metadata": {
    "colab": {
      "name": "assignmenttext.ipynb",
      "provenance": [],
      "collapsed_sections": [],
      "include_colab_link": true
    },
    "kernelspec": {
      "name": "python3",
      "display_name": "Python 3"
    },
    "accelerator": "GPU"
  },
  "cells": [
    {
      "cell_type": "markdown",
      "metadata": {
        "id": "view-in-github",
        "colab_type": "text"
      },
      "source": [
        "<a href=\"https://colab.research.google.com/github/manjotmb20/Judicial-Decision-Prediction/blob/master/assignmenttextfinal.ipynb\" target=\"_parent\"><img src=\"https://colab.research.google.com/assets/colab-badge.svg\" alt=\"Open In Colab\"/></a>"
      ]
    },
    {
      "cell_type": "code",
      "metadata": {
        "id": "A676nOZprIdx",
        "colab_type": "code",
        "colab": {}
      },
      "source": [
        "import numpy as np\n",
        "import pandas as pd\n",
        "import os\n",
        "import zipfile\n",
        "import matplotlib.pyplot as plt\n",
        "import seaborn as sns\n"
      ],
      "execution_count": 0,
      "outputs": []
    },
    {
      "cell_type": "code",
      "metadata": {
        "id": "NoTKFmQGl1a8",
        "colab_type": "code",
        "outputId": "3e74951d-0d39-45ef-fbed-c871aadc22b1",
        "colab": {
          "base_uri": "https://localhost:8080/",
          "height": 136
        }
      },
      "source": [
        "import nltk\n",
        "nltk.download('punkt')\n",
        "nltk.download('stopwords')\n",
        "from nltk.corpus import stopwords\n",
        "from nltk.stem import SnowballStemmer\n",
        "nltk.download('wordnet')"
      ],
      "execution_count": 140,
      "outputs": [
        {
          "output_type": "stream",
          "text": [
            "[nltk_data] Downloading package punkt to /root/nltk_data...\n",
            "[nltk_data]   Package punkt is already up-to-date!\n",
            "[nltk_data] Downloading package stopwords to /root/nltk_data...\n",
            "[nltk_data]   Package stopwords is already up-to-date!\n",
            "[nltk_data] Downloading package wordnet to /root/nltk_data...\n",
            "[nltk_data]   Package wordnet is already up-to-date!\n"
          ],
          "name": "stdout"
        },
        {
          "output_type": "execute_result",
          "data": {
            "text/plain": [
              "True"
            ]
          },
          "metadata": {
            "tags": []
          },
          "execution_count": 140
        }
      ]
    },
    {
      "cell_type": "code",
      "metadata": {
        "id": "f4W2sCiUJJLP",
        "colab_type": "code",
        "colab": {}
      },
      "source": [
        "from sklearn.preprocessing import MultiLabelBinarizer\n",
        "from sklearn.model_selection import train_test_split"
      ],
      "execution_count": 0,
      "outputs": []
    },
    {
      "cell_type": "code",
      "metadata": {
        "id": "Sht9y2D9L24r",
        "colab_type": "code",
        "colab": {}
      },
      "source": [
        "from sklearn.feature_extraction.text import CountVectorizer\n",
        "import operator\n",
        "import re"
      ],
      "execution_count": 0,
      "outputs": []
    },
    {
      "cell_type": "code",
      "metadata": {
        "id": "MqNxWsYUKNZV",
        "colab_type": "code",
        "colab": {}
      },
      "source": [
        "from keras.preprocessing.text import Tokenizer\n",
        "from keras.preprocessing.sequence import pad_sequences"
      ],
      "execution_count": 0,
      "outputs": []
    },
    {
      "cell_type": "code",
      "metadata": {
        "id": "S6IPhfXXTRy1",
        "colab_type": "code",
        "colab": {}
      },
      "source": [
        "from keras.layers import Embedding,Conv1D,GlobalMaxPool1D,Dense,Activation,Dropout\n",
        "from keras.models import Sequential"
      ],
      "execution_count": 0,
      "outputs": []
    },
    {
      "cell_type": "code",
      "metadata": {
        "id": "eSDsKmFz8s5U",
        "colab_type": "code",
        "colab": {}
      },
      "source": [
        "from sklearn.feature_extraction.text import TfidfVectorizer\n",
        "from sklearn.model_selection import train_test_split"
      ],
      "execution_count": 0,
      "outputs": []
    },
    {
      "cell_type": "code",
      "metadata": {
        "id": "tIduzTwuOrVD",
        "colab_type": "code",
        "outputId": "ff295d09-bc01-4bfb-e422-d5b2aeeb265b",
        "colab": {
          "base_uri": "https://localhost:8080/",
          "height": 34
        }
      },
      "source": [
        "!pip install tokenizer"
      ],
      "execution_count": 146,
      "outputs": [
        {
          "output_type": "stream",
          "text": [
            "Requirement already satisfied: tokenizer in /usr/local/lib/python3.6/dist-packages (2.0.0)\n"
          ],
          "name": "stdout"
        }
      ]
    },
    {
      "cell_type": "code",
      "metadata": {
        "id": "jiNToiY8wo8K",
        "colab_type": "code",
        "colab": {}
      },
      "source": [
        "zipref=zipfile.ZipFile(\"Train_tags.zip\")\n",
        "zipref.extractall()\n",
        "zipref.close()\n",
        "zipref=zipfile.ZipFile(\"Train_docs.zip\")\n",
        "zipref.extractall()\n",
        "zipref.close()"
      ],
      "execution_count": 0,
      "outputs": []
    },
    {
      "cell_type": "markdown",
      "metadata": {
        "id": "vK3v0OhhdkHh",
        "colab_type": "text"
      },
      "source": [
        "Loading doc file names and tag names in a list"
      ]
    },
    {
      "cell_type": "code",
      "metadata": {
        "id": "kLgpuHgqrcZM",
        "colab_type": "code",
        "colab": {}
      },
      "source": [
        "list1=[]\n",
        "col=[]\n",
        "tags=[]\n",
        "for i in range(80):\n",
        "  list1.append(\"case_{}_statement.txt\".format(i))\n",
        "  col.append(i)\n",
        "  tags.append(\"case{}.txt\".format(i))\n",
        "\n"
      ],
      "execution_count": 0,
      "outputs": []
    },
    {
      "cell_type": "markdown",
      "metadata": {
        "id": "cFwreaROeJfb",
        "colab_type": "text"
      },
      "source": [
        "function to clean text data like lower casing every word , removing \"\\,'\" and only allowing alphabets"
      ]
    },
    {
      "cell_type": "code",
      "metadata": {
        "id": "ZcAbahlPwM7k",
        "colab_type": "code",
        "colab": {}
      },
      "source": [
        "def clean_text1(text):\n",
        "  text=re.sub(\"\\'\", \"\", text )\n",
        "  text=re.sub(\"[^a-zA-z]\",\" \",text)\n",
        "  text=' '.join(text.split())\n",
        "  text=text.lower()\n",
        "  return text"
      ],
      "execution_count": 0,
      "outputs": []
    },
    {
      "cell_type": "markdown",
      "metadata": {
        "id": "swPOLb7necnb",
        "colab_type": "text"
      },
      "source": [
        "Reading train docs and tags in lists"
      ]
    },
    {
      "cell_type": "markdown",
      "metadata": {
        "id": "4OOmsMEteckz",
        "colab_type": "text"
      },
      "source": [
        ""
      ]
    },
    {
      "cell_type": "code",
      "metadata": {
        "id": "XVDyxm_ixn2R",
        "colab_type": "code",
        "colab": {}
      },
      "source": [
        "listtag=[]\n",
        "for row in tags:\n",
        "  tag=open(\"../content/Train_tags/\"+row).read()\n",
        "  listtag.append(tag.split(\",\"))"
      ],
      "execution_count": 0,
      "outputs": []
    },
    {
      "cell_type": "code",
      "metadata": {
        "id": "kbT2CUXN7LbC",
        "colab_type": "code",
        "colab": {}
      },
      "source": [
        "content=[]\n",
        "for name in df.name:\n",
        "  s=open(\"../content/Train_docs/\"+name,\"r\",encoding = \"ISO-8859-1\").read()\n",
        "  content.append(clean_text1(s))\n"
      ],
      "execution_count": 0,
      "outputs": []
    },
    {
      "cell_type": "markdown",
      "metadata": {
        "id": "yRvtJ_C4ereW",
        "colab_type": "text"
      },
      "source": [
        "Creating a dataframe of the docs and tags after preprocessing"
      ]
    },
    {
      "cell_type": "code",
      "metadata": {
        "id": "IEffPRmt0Wtw",
        "colab_type": "code",
        "colab": {}
      },
      "source": [
        "df=pd.DataFrame()\n",
        "df[\"name\"]=list1\n",
        "df[\"content\"]=content\n",
        "df[\"tags\"]=listtag\n"
      ],
      "execution_count": 0,
      "outputs": []
    },
    {
      "cell_type": "code",
      "metadata": {
        "id": "v1YfadWQ7S-K",
        "colab_type": "code",
        "colab": {
          "base_uri": "https://localhost:8080/",
          "height": 419
        },
        "outputId": "8edd7633-a406-49a4-e8c4-08985e6e8788"
      },
      "source": [
        "df"
      ],
      "execution_count": 261,
      "outputs": [
        {
          "output_type": "execute_result",
          "data": {
            "text/html": [
              "<div>\n",
              "<style scoped>\n",
              "    .dataframe tbody tr th:only-of-type {\n",
              "        vertical-align: middle;\n",
              "    }\n",
              "\n",
              "    .dataframe tbody tr th {\n",
              "        vertical-align: top;\n",
              "    }\n",
              "\n",
              "    .dataframe thead th {\n",
              "        text-align: right;\n",
              "    }\n",
              "</style>\n",
              "<table border=\"1\" class=\"dataframe\">\n",
              "  <thead>\n",
              "    <tr style=\"text-align: right;\">\n",
              "      <th></th>\n",
              "      <th>name</th>\n",
              "      <th>content</th>\n",
              "      <th>tags</th>\n",
              "    </tr>\n",
              "  </thead>\n",
              "  <tbody>\n",
              "    <tr>\n",
              "      <th>0</th>\n",
              "      <td>case_0_statement.txt</td>\n",
              "      <td>kurian joseph j leave granted in special leave...</td>\n",
              "      <td>[Cause of Action]</td>\n",
              "    </tr>\n",
              "    <tr>\n",
              "      <th>1</th>\n",
              "      <td>case_1_statement.txt</td>\n",
              "      <td>abhay manohar sapre j delay in filing special ...</td>\n",
              "      <td>[Abetment,  Abetment of Suicide,  Absconding, ...</td>\n",
              "    </tr>\n",
              "    <tr>\n",
              "      <th>2</th>\n",
              "      <td>case_2_statement.txt</td>\n",
              "      <td>pinaki chandra ghose j this criminal appeal by...</td>\n",
              "      <td>[Decision,  Exemption,  Exemption Notification...</td>\n",
              "    </tr>\n",
              "    <tr>\n",
              "      <th>3</th>\n",
              "      <td>case_3_statement.txt</td>\n",
              "      <td>this matter is placed before us as a bench of ...</td>\n",
              "      <td>[Child Labour,  Compensation,  Fundamental Rig...</td>\n",
              "    </tr>\n",
              "    <tr>\n",
              "      <th>4</th>\n",
              "      <td>case_4_statement.txt</td>\n",
              "      <td>we have heard learned counsel for the parties ...</td>\n",
              "      <td>[Account,  Auditor,  Authentication,  Commerci...</td>\n",
              "    </tr>\n",
              "    <tr>\n",
              "      <th>...</th>\n",
              "      <td>...</td>\n",
              "      <td>...</td>\n",
              "      <td>...</td>\n",
              "    </tr>\n",
              "    <tr>\n",
              "      <th>75</th>\n",
              "      <td>case_75_statement.txt</td>\n",
              "      <td>this is tenants appeal by special leave though...</td>\n",
              "      <td>[Administration of Justice,  Admiralty Jurisdi...</td>\n",
              "    </tr>\n",
              "    <tr>\n",
              "      <th>76</th>\n",
              "      <td>case_76_statement.txt</td>\n",
              "      <td>s b sinha j the primal question involved in th...</td>\n",
              "      <td>[Absorption,  Ad]</td>\n",
              "    </tr>\n",
              "    <tr>\n",
              "      <th>77</th>\n",
              "      <td>case_77_statement.txt</td>\n",
              "      <td>r banumathi j leave granted this appeal by spe...</td>\n",
              "      <td>[Appreciation of Evidence,  Assault,  Autopsy,...</td>\n",
              "    </tr>\n",
              "    <tr>\n",
              "      <th>78</th>\n",
              "      <td>case_78_statement.txt</td>\n",
              "      <td>dipak misra j despite completion of a decade f...</td>\n",
              "      <td>[Amicus Curiae,  Circumstantial Evidence,  Eye...</td>\n",
              "    </tr>\n",
              "    <tr>\n",
              "      <th>79</th>\n",
              "      <td>case_79_statement.txt</td>\n",
              "      <td>h k sema j four appellants anthony dsouza anil...</td>\n",
              "      <td>[Absence,  Access,  Accident,  Account,  Acqui...</td>\n",
              "    </tr>\n",
              "  </tbody>\n",
              "</table>\n",
              "<p>80 rows × 3 columns</p>\n",
              "</div>"
            ],
            "text/plain": [
              "                     name  ...                                               tags\n",
              "0    case_0_statement.txt  ...                                  [Cause of Action]\n",
              "1    case_1_statement.txt  ...  [Abetment,  Abetment of Suicide,  Absconding, ...\n",
              "2    case_2_statement.txt  ...  [Decision,  Exemption,  Exemption Notification...\n",
              "3    case_3_statement.txt  ...  [Child Labour,  Compensation,  Fundamental Rig...\n",
              "4    case_4_statement.txt  ...  [Account,  Auditor,  Authentication,  Commerci...\n",
              "..                    ...  ...                                                ...\n",
              "75  case_75_statement.txt  ...  [Administration of Justice,  Admiralty Jurisdi...\n",
              "76  case_76_statement.txt  ...                                  [Absorption,  Ad]\n",
              "77  case_77_statement.txt  ...  [Appreciation of Evidence,  Assault,  Autopsy,...\n",
              "78  case_78_statement.txt  ...  [Amicus Curiae,  Circumstantial Evidence,  Eye...\n",
              "79  case_79_statement.txt  ...  [Absence,  Access,  Accident,  Account,  Acqui...\n",
              "\n",
              "[80 rows x 3 columns]"
            ]
          },
          "metadata": {
            "tags": []
          },
          "execution_count": 261
        }
      ]
    },
    {
      "cell_type": "markdown",
      "metadata": {
        "id": "TJLATGIbdNE0",
        "colab_type": "text"
      },
      "source": [
        "When we plot the frequency graph of words in docs we see that there are a lot of stopwords which we must remove"
      ]
    },
    {
      "cell_type": "code",
      "metadata": {
        "id": "T6H0YcAf7-nN",
        "colab_type": "code",
        "colab": {
          "base_uri": "https://localhost:8080/",
          "height": 877
        },
        "outputId": "abea4824-1249-4dd8-940a-f919f8b6fff1"
      },
      "source": [
        "def freq_words(x, terms = 30): \n",
        "  all_words = ' '.join([text for text in x]) \n",
        "  all_words = all_words.split() \n",
        "  fdist = nltk.FreqDist(all_words) \n",
        "  words_df = pd.DataFrame({'word':list(fdist.keys()), 'count':list(fdist.values())}) \n",
        "  \n",
        "  \n",
        "  d = words_df.nlargest(columns=\"count\", n = terms) \n",
        "  \n",
        " \n",
        "  plt.figure(figsize=(12,15)) \n",
        "  ax = sns.barplot(data=d, x= \"count\", y = \"word\") \n",
        "  ax.set(ylabel = 'Word') \n",
        "  plt.show()\n",
        "  \n",
        "\n",
        "freq_words(df[\"content\"], 100)"
      ],
      "execution_count": 257,
      "outputs": [
        {
          "output_type": "display_data",
          "data": {
            "image/png": "[encoded data removed]",
            "text/plain": [
              "<Figure size 864x1080 with 1 Axes>"
            ]
          },
          "metadata": {
            "tags": []
          }
        }
      ]
    },
    {
      "cell_type": "markdown",
      "metadata": {
        "id": "3PKDIdaadI8u",
        "colab_type": "text"
      },
      "source": [
        "Removing Stopwords"
      ]
    },
    {
      "cell_type": "code",
      "metadata": {
        "id": "xvD2VIy68Slk",
        "colab_type": "code",
        "colab": {
          "base_uri": "https://localhost:8080/",
          "height": 51
        },
        "outputId": "8a268ad7-d3c9-43bd-a57a-4cd5a1a14500"
      },
      "source": [
        "nltk.download('stopwords')\n",
        "stop_words = set(stopwords.words('english'))\n",
        "def remove_stopwords(text):\n",
        "  no_stopwords=[w for w in text.split() if not w in stop_words]\n",
        "  return ' '.join(no_stopwords)\n",
        "df[\"content\"]=df[\"content\"].apply(lambda x: remove_stopwords(x))"
      ],
      "execution_count": 258,
      "outputs": [
        {
          "output_type": "stream",
          "text": [
            "[nltk_data] Downloading package stopwords to /root/nltk_data...\n",
            "[nltk_data]   Package stopwords is already up-to-date!\n"
          ],
          "name": "stdout"
        }
      ]
    },
    {
      "cell_type": "code",
      "metadata": {
        "id": "PA_ClkoqdFDE",
        "colab_type": "code",
        "colab": {
          "base_uri": "https://localhost:8080/",
          "height": 877
        },
        "outputId": "826dc99b-77a0-4974-a0bc-0e266df2e88c"
      },
      "source": [
        "def freq_words(x, terms = 30): \n",
        "  all_words = ' '.join([text for text in x]) \n",
        "  all_words = all_words.split() \n",
        "  fdist = nltk.FreqDist(all_words) \n",
        "  words_df = pd.DataFrame({'word':list(fdist.keys()), 'count':list(fdist.values())}) \n",
        "  \n",
        "  \n",
        "  d = words_df.nlargest(columns=\"count\", n = terms) \n",
        "  \n",
        " \n",
        "  plt.figure(figsize=(12,15)) \n",
        "  ax = sns.barplot(data=d, x= \"count\", y = \"word\") \n",
        "  ax.set(ylabel = 'Word') \n",
        "  plt.show()\n",
        "  \n",
        "\n",
        "freq_words(df[\"content\"], 100)"
      ],
      "execution_count": 259,
      "outputs": [
        {
          "output_type": "display_data",
          "data": {
            "image/png": "[encoded data removed]",
            "text/plain": [
              "<Figure size 864x1080 with 1 Axes>"
            ]
          },
          "metadata": {
            "tags": []
          }
        }
      ]
    },
    {
      "cell_type": "markdown",
      "metadata": {
        "id": "kkYGTTvve2Pd",
        "colab_type": "text"
      },
      "source": [
        "Using MultiLabelBinarizer as we need MultiLabel Output from model"
      ]
    },
    {
      "cell_type": "code",
      "metadata": {
        "id": "PkiqKH9Z3hBX",
        "colab_type": "code",
        "colab": {}
      },
      "source": [
        "from sklearn.preprocessing import MultiLabelBinarizer\n",
        "multilabel_binarizer=MultiLabelBinarizer()\n",
        "multilabel_binarizer.fit(df['tags'])\n",
        "labels=multilabel_binarizer.classes_\n",
        "y=multilabel_binarizer.transform(df[\"tags\"])\n",
        "\n"
      ],
      "execution_count": 0,
      "outputs": []
    },
    {
      "cell_type": "markdown",
      "metadata": {
        "id": "RPqpxkKIfcSR",
        "colab_type": "text"
      },
      "source": [
        "Tfidf Vectorizer for converting docs to vector representation"
      ]
    },
    {
      "cell_type": "code",
      "metadata": {
        "id": "xaldAG3tBsf5",
        "colab_type": "code",
        "colab": {}
      },
      "source": [
        "tfidf_vectorizer=TfidfVectorizer(max_df=0.8,max_features=5000)\n",
        "xtrain, xval, ytrain, yval = train_test_split(df['content'], y, test_size=0.2, random_state=9)"
      ],
      "execution_count": 0,
      "outputs": []
    },
    {
      "cell_type": "code",
      "metadata": {
        "id": "P6kPdAEGHF43",
        "colab_type": "code",
        "colab": {}
      },
      "source": [
        "xtrain_tfidf = tfidf_vectorizer.fit_transform(xtrain)\n",
        "xval_tfidf = tfidf_vectorizer.transform(xval)"
      ],
      "execution_count": 0,
      "outputs": []
    },
    {
      "cell_type": "markdown",
      "metadata": {
        "id": "ZWkxzWYmhEzk",
        "colab_type": "text"
      },
      "source": [
        "As we have a very low tag distribution, so we will use predict_proba instead of pred as 'pred' will always return 0 as it is a binary classification task so it will always give 0 as output due to low tag distribution across dataset"
      ]
    },
    {
      "cell_type": "code",
      "metadata": {
        "id": "NtxM7hHy5DFk",
        "colab_type": "code",
        "colab": {}
      },
      "source": [
        "from sklearn.linear_model import LogisticRegression\n",
        "from sklearn.multiclass import OneVsRestClassifier\n",
        "from sklearn.metrics import f1_score\n",
        "lr = LogisticRegression()\n",
        "clf = OneVsRestClassifier(lr)\n",
        "clf.fit(xtrain_tfidf, ytrain)\n",
        "yt=clf.predict_proba(xval_tfidf)\n"
      ],
      "execution_count": 0,
      "outputs": []
    },
    {
      "cell_type": "code",
      "metadata": {
        "id": "H2U1FASA5Nzx",
        "colab_type": "code",
        "colab": {
          "base_uri": "https://localhost:8080/",
          "height": 34
        },
        "outputId": "ecef508e-c9b3-4c01-83c2-5ebd7a6d986e"
      },
      "source": [
        "threshold= 0.15\n",
        "y_pred_new = (yt >= threshold).astype(int)"
      ],
      "execution_count": 315,
      "outputs": [
        {
          "output_type": "execute_result",
          "data": {
            "text/plain": [
              "array([0, 0, 0, ..., 0, 0, 0])"
            ]
          },
          "metadata": {
            "tags": []
          },
          "execution_count": 315
        }
      ]
    },
    {
      "cell_type": "markdown",
      "metadata": {
        "id": "QLiHqZK3h6QQ",
        "colab_type": "text"
      },
      "source": [
        "Inverse Transform to convert labels to Tag name"
      ]
    },
    {
      "cell_type": "code",
      "metadata": {
        "id": "tsymcFkw-Od6",
        "colab_type": "code",
        "colab": {}
      },
      "source": [
        "results=multilabel_binarizer.inverse_transform(y_pred_new)"
      ],
      "execution_count": 0,
      "outputs": []
    },
    {
      "cell_type": "code",
      "metadata": {
        "id": "qVXgzULYcZs5",
        "colab_type": "code",
        "colab": {}
      },
      "source": [
        "results"
      ],
      "execution_count": 0,
      "outputs": []
    },
    {
      "cell_type": "code",
      "metadata": {
        "id": "c_gzlbRk-R_9",
        "colab_type": "code",
        "colab": {
          "base_uri": "https://localhost:8080/",
          "height": 34
        },
        "outputId": "e20246e3-f4e6-4162-817b-3bceda352a27"
      },
      "source": [
        "f1_score(yval, y_pred_new, average=\"micro\")"
      ],
      "execution_count": 314,
      "outputs": [
        {
          "output_type": "execute_result",
          "data": {
            "text/plain": [
              "0.034423407917383825"
            ]
          },
          "metadata": {
            "tags": []
          },
          "execution_count": 314
        }
      ]
    },
    {
      "cell_type": "markdown",
      "metadata": {
        "id": "yLGvSz9QiBCe",
        "colab_type": "text"
      },
      "source": [
        "Now loading the test data set into the model"
      ]
    },
    {
      "cell_type": "code",
      "metadata": {
        "id": "2sGTpsAsO729",
        "colab_type": "code",
        "colab": {}
      },
      "source": [
        "zipref=zipfile.ZipFile(\"Test_docs.zip\")\n",
        "zipref.extractall()\n",
        "zipref.close()"
      ],
      "execution_count": 0,
      "outputs": []
    },
    {
      "cell_type": "code",
      "metadata": {
        "id": "z5RLMjAIkQy8",
        "colab_type": "code",
        "colab": {}
      },
      "source": [
        "testlist=[]\n",
        "for i in range(100,300):\n",
        "  testlist.append(\"case_{}_statement.txt\".format(i))"
      ],
      "execution_count": 0,
      "outputs": []
    },
    {
      "cell_type": "code",
      "metadata": {
        "id": "fO_WSWuYk2ql",
        "colab_type": "code",
        "colab": {}
      },
      "source": [
        "dftest=pd.DataFrame()\n",
        "dftest[\"name\"]=testlist"
      ],
      "execution_count": 0,
      "outputs": []
    },
    {
      "cell_type": "code",
      "metadata": {
        "id": "a3kJUZ6jlXj3",
        "colab_type": "code",
        "colab": {}
      },
      "source": [
        "testcontent=[]\n",
        "for name in dftest.name:\n",
        "  s=open(\"../content/Test_docs/\"+name,\"r\",encoding = \"ISO-8859-1\").read()\n",
        "  testcontent.append(clean_text1(s))"
      ],
      "execution_count": 0,
      "outputs": []
    },
    {
      "cell_type": "code",
      "metadata": {
        "id": "QrPLwa_plZ19",
        "colab_type": "code",
        "colab": {}
      },
      "source": [
        "dftest[\"content\"]=testcontent"
      ],
      "execution_count": 0,
      "outputs": []
    },
    {
      "cell_type": "code",
      "metadata": {
        "id": "SDusTTYjl3wH",
        "colab_type": "code",
        "colab": {
          "base_uri": "https://localhost:8080/",
          "height": 204
        },
        "outputId": "f152fd92-921b-4865-d4a0-11f19976de5f"
      },
      "source": [
        "dftest.head()"
      ],
      "execution_count": 333,
      "outputs": [
        {
          "output_type": "execute_result",
          "data": {
            "text/html": [
              "<div>\n",
              "<style scoped>\n",
              "    .dataframe tbody tr th:only-of-type {\n",
              "        vertical-align: middle;\n",
              "    }\n",
              "\n",
              "    .dataframe tbody tr th {\n",
              "        vertical-align: top;\n",
              "    }\n",
              "\n",
              "    .dataframe thead th {\n",
              "        text-align: right;\n",
              "    }\n",
              "</style>\n",
              "<table border=\"1\" class=\"dataframe\">\n",
              "  <thead>\n",
              "    <tr style=\"text-align: right;\">\n",
              "      <th></th>\n",
              "      <th>name</th>\n",
              "      <th>content</th>\n",
              "    </tr>\n",
              "  </thead>\n",
              "  <tbody>\n",
              "    <tr>\n",
              "      <th>0</th>\n",
              "      <td>case_100_statement.txt</td>\n",
              "      <td>p venkatarama reddi j opinion recorded kerala ...</td>\n",
              "    </tr>\n",
              "    <tr>\n",
              "      <th>1</th>\n",
              "      <td>case_101_statement.txt</td>\n",
              "      <td>g b pattanaik j batch special leave petitions ...</td>\n",
              "    </tr>\n",
              "    <tr>\n",
              "      <th>2</th>\n",
              "      <td>case_102_statement.txt</td>\n",
              "      <td>hearing learned counsel parties length find ag...</td>\n",
              "    </tr>\n",
              "    <tr>\n",
              "      <th>3</th>\n",
              "      <td>case_103_statement.txt</td>\n",
              "      <td>appeal directed judgment order passed high cou...</td>\n",
              "    </tr>\n",
              "    <tr>\n",
              "      <th>4</th>\n",
              "      <td>case_104_statement.txt</td>\n",
              "      <td>issue raised appellants search conducted shop ...</td>\n",
              "    </tr>\n",
              "  </tbody>\n",
              "</table>\n",
              "</div>"
            ],
            "text/plain": [
              "                     name                                            content\n",
              "0  case_100_statement.txt  p venkatarama reddi j opinion recorded kerala ...\n",
              "1  case_101_statement.txt  g b pattanaik j batch special leave petitions ...\n",
              "2  case_102_statement.txt  hearing learned counsel parties length find ag...\n",
              "3  case_103_statement.txt  appeal directed judgment order passed high cou...\n",
              "4  case_104_statement.txt  issue raised appellants search conducted shop ..."
            ]
          },
          "metadata": {
            "tags": []
          },
          "execution_count": 333
        }
      ]
    },
    {
      "cell_type": "code",
      "metadata": {
        "id": "vOuXkzbTmJBf",
        "colab_type": "code",
        "colab": {}
      },
      "source": [
        "dftest[\"content\"]=dftest[\"content\"].apply(lambda x: remove_stopwords(x))"
      ],
      "execution_count": 0,
      "outputs": []
    },
    {
      "cell_type": "code",
      "metadata": {
        "id": "saE_ySHbmVY_",
        "colab_type": "code",
        "colab": {
          "base_uri": "https://localhost:8080/",
          "height": 877
        },
        "outputId": "d2d1d481-7ab2-4d09-a204-3bba2b0c1621"
      },
      "source": [
        "def freq_words(x, terms = 30): \n",
        "  all_words = ' '.join([text for text in x]) \n",
        "  all_words = all_words.split() \n",
        "  fdist = nltk.FreqDist(all_words) \n",
        "  words_df = pd.DataFrame({'word':list(fdist.keys()), 'count':list(fdist.values())}) \n",
        "  \n",
        "  \n",
        "  d = words_df.nlargest(columns=\"count\", n = terms) \n",
        "  \n",
        " \n",
        "  plt.figure(figsize=(12,15)) \n",
        "  ax = sns.barplot(data=d, x= \"count\", y = \"word\") \n",
        "  ax.set(ylabel = 'Word') \n",
        "  plt.show()\n",
        "  \n",
        "\n",
        "freq_words(dftest[\"content\"], 100)"
      ],
      "execution_count": 334,
      "outputs": [
        {
          "output_type": "display_data",
          "data": {
            "image/png": "[encoded data removed]",
            "text/plain": [
              "<Figure size 864x1080 with 1 Axes>"
            ]
          },
          "metadata": {
            "tags": []
          }
        }
      ]
    },
    {
      "cell_type": "code",
      "metadata": {
        "id": "mjnY0WOmmd3X",
        "colab_type": "code",
        "colab": {}
      },
      "source": [
        "xtest_tfidf = tfidf_vectorizer.transform(dftest[\"content\"])"
      ],
      "execution_count": 0,
      "outputs": []
    },
    {
      "cell_type": "code",
      "metadata": {
        "id": "eDh19SBtnA-p",
        "colab_type": "code",
        "colab": {}
      },
      "source": [
        "ytest=clf.predict_proba(xtest_tfidf)\n",
        "threshold= 0.16\n",
        "ytest_pred= (ytest>= threshold).astype(int)\n",
        "results=multilabel_binarizer.inverse_transform(ytest_pred)"
      ],
      "execution_count": 0,
      "outputs": []
    },
    {
      "cell_type": "code",
      "metadata": {
        "id": "YcP1lEg8nDMB",
        "colab_type": "code",
        "colab": {}
      },
      "source": [
        "dftest[\"predicted tags\"]=results"
      ],
      "execution_count": 0,
      "outputs": []
    },
    {
      "cell_type": "code",
      "metadata": {
        "id": "sLxIWBecnqEJ",
        "colab_type": "code",
        "colab": {}
      },
      "source": [
        "dftest.to_csv('predicted_tags.csv') "
      ],
      "execution_count": 0,
      "outputs": []
    },
    {
      "cell_type": "code",
      "metadata": {
        "id": "8_3oinYNoE78",
        "colab_type": "code",
        "colab": {}
      },
      "source": [
        ""
      ],
      "execution_count": 0,
      "outputs": []
    }
  ]
}