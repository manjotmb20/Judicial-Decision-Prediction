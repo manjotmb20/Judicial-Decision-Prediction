{
  "nbformat": 4,
  "nbformat_minor": 0,
  "metadata": {
    "colab": {
      "name": "assignmenttext.ipynb",
      "provenance": [],
      "collapsed_sections": [],
      "include_colab_link": true
    },
    "kernelspec": {
      "name": "python3",
      "display_name": "Python 3"
    },
    "accelerator": "GPU"
  },
  "cells": [
    {
      "cell_type": "markdown",
      "metadata": {
        "id": "view-in-github",
        "colab_type": "text"
      },
      "source": [
        "<a href=\"https://colab.research.google.com/github/manjotmb20/Judicial-Decision-Prediction/blob/master/assignmenttext.ipynb\" target=\"_parent\"><img src=\"https://colab.research.google.com/assets/colab-badge.svg\" alt=\"Open In Colab\"/></a>"
      ]
    },
    {
      "cell_type": "code",
      "metadata": {
        "id": "A676nOZprIdx",
        "colab_type": "code",
        "colab": {}
      },
      "source": [
        "import numpy as np\n",
        "import pandas as pd\n",
        "import os\n",
        "import zipfile"
      ],
      "execution_count": 0,
      "outputs": []
    },
    {
      "cell_type": "code",
      "metadata": {
        "id": "jiNToiY8wo8K",
        "colab_type": "code",
        "colab": {}
      },
      "source": [
        "zipref=zipfile.ZipFile(\"Train_tags.zip\")\n",
        "zipref.extractall()\n",
        "zipref.close()"
      ],
      "execution_count": 0,
      "outputs": []
    },
    {
      "cell_type": "code",
      "metadata": {
        "id": "kLgpuHgqrcZM",
        "colab_type": "code",
        "colab": {}
      },
      "source": [
        "list1=[]\n",
        "col=[]\n",
        "tags=[]\n",
        "for i in range(80):\n",
        "  list1.append(\"case_{}_statement.txt\".format(i))\n",
        "  col.append(i)\n",
        "  tags.append(\"case{}.txt\".format(i))\n",
        "\n"
      ],
      "execution_count": 0,
      "outputs": []
    },
    {
      "cell_type": "code",
      "metadata": {
        "id": "Ee2wowpus-yJ",
        "colab_type": "code",
        "colab": {
          "base_uri": "https://localhost:8080/",
          "height": 1000
        },
        "outputId": "89f727ed-e0cc-42e7-9dbf-cbe999e07387"
      },
      "source": [
        "tags"
      ],
      "execution_count": 29,
      "outputs": [
        {
          "output_type": "execute_result",
          "data": {
            "text/plain": [
              "['case0.txt',\n",
              " 'case1.txt',\n",
              " 'case2.txt',\n",
              " 'case3.txt',\n",
              " 'case4.txt',\n",
              " 'case5.txt',\n",
              " 'case6.txt',\n",
              " 'case7.txt',\n",
              " 'case8.txt',\n",
              " 'case9.txt',\n",
              " 'case10.txt',\n",
              " 'case11.txt',\n",
              " 'case12.txt',\n",
              " 'case13.txt',\n",
              " 'case14.txt',\n",
              " 'case15.txt',\n",
              " 'case16.txt',\n",
              " 'case17.txt',\n",
              " 'case18.txt',\n",
              " 'case19.txt',\n",
              " 'case20.txt',\n",
              " 'case21.txt',\n",
              " 'case22.txt',\n",
              " 'case23.txt',\n",
              " 'case24.txt',\n",
              " 'case25.txt',\n",
              " 'case26.txt',\n",
              " 'case27.txt',\n",
              " 'case28.txt',\n",
              " 'case29.txt',\n",
              " 'case30.txt',\n",
              " 'case31.txt',\n",
              " 'case32.txt',\n",
              " 'case33.txt',\n",
              " 'case34.txt',\n",
              " 'case35.txt',\n",
              " 'case36.txt',\n",
              " 'case37.txt',\n",
              " 'case38.txt',\n",
              " 'case39.txt',\n",
              " 'case40.txt',\n",
              " 'case41.txt',\n",
              " 'case42.txt',\n",
              " 'case43.txt',\n",
              " 'case44.txt',\n",
              " 'case45.txt',\n",
              " 'case46.txt',\n",
              " 'case47.txt',\n",
              " 'case48.txt',\n",
              " 'case49.txt',\n",
              " 'case50.txt',\n",
              " 'case51.txt',\n",
              " 'case52.txt',\n",
              " 'case53.txt',\n",
              " 'case54.txt',\n",
              " 'case55.txt',\n",
              " 'case56.txt',\n",
              " 'case57.txt',\n",
              " 'case58.txt',\n",
              " 'case59.txt',\n",
              " 'case60.txt',\n",
              " 'case61.txt',\n",
              " 'case62.txt',\n",
              " 'case63.txt',\n",
              " 'case64.txt',\n",
              " 'case65.txt',\n",
              " 'case66.txt',\n",
              " 'case67.txt',\n",
              " 'case68.txt',\n",
              " 'case69.txt',\n",
              " 'case70.txt',\n",
              " 'case71.txt',\n",
              " 'case72.txt',\n",
              " 'case73.txt',\n",
              " 'case74.txt',\n",
              " 'case75.txt',\n",
              " 'case76.txt',\n",
              " 'case77.txt',\n",
              " 'case78.txt',\n",
              " 'case79.txt']"
            ]
          },
          "metadata": {
            "tags": []
          },
          "execution_count": 29
        }
      ]
    },
    {
      "cell_type": "code",
      "metadata": {
        "id": "uiAJHlx2tNT6",
        "colab_type": "code",
        "colab": {}
      },
      "source": [
        "data={\"name\":list1}"
      ],
      "execution_count": 0,
      "outputs": []
    },
    {
      "cell_type": "code",
      "metadata": {
        "id": "dmTj_oALvPb4",
        "colab_type": "code",
        "colab": {}
      },
      "source": [
        "df=pd.DataFrame(data)"
      ],
      "execution_count": 0,
      "outputs": []
    },
    {
      "cell_type": "code",
      "metadata": {
        "id": "7p7ydWOyvQ9x",
        "colab_type": "code",
        "colab": {}
      },
      "source": [
        "df['index']=col"
      ],
      "execution_count": 0,
      "outputs": []
    },
    {
      "cell_type": "code",
      "metadata": {
        "id": "U4Wb08ZgvahQ",
        "colab_type": "code",
        "colab": {
          "base_uri": "https://localhost:8080/",
          "height": 419
        },
        "outputId": "ac08be1c-5b01-4dad-dc07-87ae47c690b6"
      },
      "source": [
        "df"
      ],
      "execution_count": 22,
      "outputs": [
        {
          "output_type": "execute_result",
          "data": {
            "text/html": [
              "<div>\n",
              "<style scoped>\n",
              "    .dataframe tbody tr th:only-of-type {\n",
              "        vertical-align: middle;\n",
              "    }\n",
              "\n",
              "    .dataframe tbody tr th {\n",
              "        vertical-align: top;\n",
              "    }\n",
              "\n",
              "    .dataframe thead th {\n",
              "        text-align: right;\n",
              "    }\n",
              "</style>\n",
              "<table border=\"1\" class=\"dataframe\">\n",
              "  <thead>\n",
              "    <tr style=\"text-align: right;\">\n",
              "      <th></th>\n",
              "      <th>name</th>\n",
              "      <th>index</th>\n",
              "    </tr>\n",
              "  </thead>\n",
              "  <tbody>\n",
              "    <tr>\n",
              "      <th>0</th>\n",
              "      <td>case_0_statement.txt</td>\n",
              "      <td>0</td>\n",
              "    </tr>\n",
              "    <tr>\n",
              "      <th>1</th>\n",
              "      <td>case_1_statement.txt</td>\n",
              "      <td>1</td>\n",
              "    </tr>\n",
              "    <tr>\n",
              "      <th>2</th>\n",
              "      <td>case_2_statement.txt</td>\n",
              "      <td>2</td>\n",
              "    </tr>\n",
              "    <tr>\n",
              "      <th>3</th>\n",
              "      <td>case_3_statement.txt</td>\n",
              "      <td>3</td>\n",
              "    </tr>\n",
              "    <tr>\n",
              "      <th>4</th>\n",
              "      <td>case_4_statement.txt</td>\n",
              "      <td>4</td>\n",
              "    </tr>\n",
              "    <tr>\n",
              "      <th>...</th>\n",
              "      <td>...</td>\n",
              "      <td>...</td>\n",
              "    </tr>\n",
              "    <tr>\n",
              "      <th>75</th>\n",
              "      <td>case_75_statement.txt</td>\n",
              "      <td>75</td>\n",
              "    </tr>\n",
              "    <tr>\n",
              "      <th>76</th>\n",
              "      <td>case_76_statement.txt</td>\n",
              "      <td>76</td>\n",
              "    </tr>\n",
              "    <tr>\n",
              "      <th>77</th>\n",
              "      <td>case_77_statement.txt</td>\n",
              "      <td>77</td>\n",
              "    </tr>\n",
              "    <tr>\n",
              "      <th>78</th>\n",
              "      <td>case_78_statement.txt</td>\n",
              "      <td>78</td>\n",
              "    </tr>\n",
              "    <tr>\n",
              "      <th>79</th>\n",
              "      <td>case_79_statement.txt</td>\n",
              "      <td>79</td>\n",
              "    </tr>\n",
              "  </tbody>\n",
              "</table>\n",
              "<p>80 rows × 2 columns</p>\n",
              "</div>"
            ],
            "text/plain": [
              "                     name  index\n",
              "0    case_0_statement.txt      0\n",
              "1    case_1_statement.txt      1\n",
              "2    case_2_statement.txt      2\n",
              "3    case_3_statement.txt      3\n",
              "4    case_4_statement.txt      4\n",
              "..                    ...    ...\n",
              "75  case_75_statement.txt     75\n",
              "76  case_76_statement.txt     76\n",
              "77  case_77_statement.txt     77\n",
              "78  case_78_statement.txt     78\n",
              "79  case_79_statement.txt     79\n",
              "\n",
              "[80 rows x 2 columns]"
            ]
          },
          "metadata": {
            "tags": []
          },
          "execution_count": 22
        }
      ]
    },
    {
      "cell_type": "code",
      "metadata": {
        "id": "_C-bX0pEwDpA",
        "colab_type": "code",
        "colab": {}
      },
      "source": [
        "path='../content/Train_tags'"
      ],
      "execution_count": 0,
      "outputs": []
    },
    {
      "cell_type": "code",
      "metadata": {
        "id": "vPq-Y0H-y31l",
        "colab_type": "code",
        "colab": {}
      },
      "source": [
        "listtag=[]\n",
        "for row in tags:\n",
        "  tag=open(\"../content/Train_tags/\"+row).read()\n",
        "  listtag.append(tag)"
      ],
      "execution_count": 0,
      "outputs": []
    },
    {
      "cell_type": "code",
      "metadata": {
        "id": "o8K7nz-Pzf3v",
        "colab_type": "code",
        "colab": {
          "base_uri": "https://localhost:8080/",
          "height": 34
        },
        "outputId": "03348941-3d19-454f-e9dc-7110232ec332"
      },
      "source": [
        "len(listtag)"
      ],
      "execution_count": 39,
      "outputs": [
        {
          "output_type": "execute_result",
          "data": {
            "text/plain": [
              "80"
            ]
          },
          "metadata": {
            "tags": []
          },
          "execution_count": 39
        }
      ]
    },
    {
      "cell_type": "code",
      "metadata": {
        "id": "A1K-GyeY0i-M",
        "colab_type": "code",
        "colab": {}
      },
      "source": [
        "df['tags']=listtag"
      ],
      "execution_count": 0,
      "outputs": []
    },
    {
      "cell_type": "code",
      "metadata": {
        "id": "vazxjFG00lIb",
        "colab_type": "code",
        "colab": {
          "base_uri": "https://localhost:8080/",
          "height": 204
        },
        "outputId": "4fe361fa-d5ed-4734-94ad-266c350fdee6"
      },
      "source": [
        "df.tail()"
      ],
      "execution_count": 43,
      "outputs": [
        {
          "output_type": "execute_result",
          "data": {
            "text/html": [
              "<div>\n",
              "<style scoped>\n",
              "    .dataframe tbody tr th:only-of-type {\n",
              "        vertical-align: middle;\n",
              "    }\n",
              "\n",
              "    .dataframe tbody tr th {\n",
              "        vertical-align: top;\n",
              "    }\n",
              "\n",
              "    .dataframe thead th {\n",
              "        text-align: right;\n",
              "    }\n",
              "</style>\n",
              "<table border=\"1\" class=\"dataframe\">\n",
              "  <thead>\n",
              "    <tr style=\"text-align: right;\">\n",
              "      <th></th>\n",
              "      <th>name</th>\n",
              "      <th>index</th>\n",
              "      <th>tags</th>\n",
              "    </tr>\n",
              "  </thead>\n",
              "  <tbody>\n",
              "    <tr>\n",
              "      <th>75</th>\n",
              "      <td>case_75_statement.txt</td>\n",
              "      <td>75</td>\n",
              "      <td>Administration of Justice, Admiralty Jurisdict...</td>\n",
              "    </tr>\n",
              "    <tr>\n",
              "      <th>76</th>\n",
              "      <td>case_76_statement.txt</td>\n",
              "      <td>76</td>\n",
              "      <td>Absorption, Ad</td>\n",
              "    </tr>\n",
              "    <tr>\n",
              "      <th>77</th>\n",
              "      <td>case_77_statement.txt</td>\n",
              "      <td>77</td>\n",
              "      <td>Appreciation of Evidence, Assault, Autopsy, Br...</td>\n",
              "    </tr>\n",
              "    <tr>\n",
              "      <th>78</th>\n",
              "      <td>case_78_statement.txt</td>\n",
              "      <td>78</td>\n",
              "      <td>Amicus Curiae, Circumstantial Evidence, Eye Wi...</td>\n",
              "    </tr>\n",
              "    <tr>\n",
              "      <th>79</th>\n",
              "      <td>case_79_statement.txt</td>\n",
              "      <td>79</td>\n",
              "      <td>Absence, Access, Accident, Account, Acquisitio...</td>\n",
              "    </tr>\n",
              "  </tbody>\n",
              "</table>\n",
              "</div>"
            ],
            "text/plain": [
              "                     name  ...                                               tags\n",
              "75  case_75_statement.txt  ...  Administration of Justice, Admiralty Jurisdict...\n",
              "76  case_76_statement.txt  ...                                     Absorption, Ad\n",
              "77  case_77_statement.txt  ...  Appreciation of Evidence, Assault, Autopsy, Br...\n",
              "78  case_78_statement.txt  ...  Amicus Curiae, Circumstantial Evidence, Eye Wi...\n",
              "79  case_79_statement.txt  ...  Absence, Access, Accident, Account, Acquisitio...\n",
              "\n",
              "[5 rows x 3 columns]"
            ]
          },
          "metadata": {
            "tags": []
          },
          "execution_count": 43
        }
      ]
    },
    {
      "cell_type": "code",
      "metadata": {
        "id": "-xtOueBE3O7d",
        "colab_type": "code",
        "colab": {}
      },
      "source": [
        ""
      ],
      "execution_count": 0,
      "outputs": []
    }
  ]
}