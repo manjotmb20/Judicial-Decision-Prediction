{
  "nbformat": 4,
  "nbformat_minor": 0,
  "metadata": {
    "colab": {
      "name": "assignmenttext.ipynb",
      "provenance": [],
      "collapsed_sections": [],
      "include_colab_link": true
    },
    "kernelspec": {
      "name": "python3",
      "display_name": "Python 3"
    },
    "accelerator": "GPU"
  },
  "cells": [
    {
      "cell_type": "markdown",
      "metadata": {
        "id": "view-in-github",
        "colab_type": "text"
      },
      "source": [
        "<a href=\"https://colab.research.google.com/github/manjotmb20/Judicial-Decision-Prediction/blob/master/assignmenttext.ipynb\" target=\"_parent\"><img src=\"https://colab.research.google.com/assets/colab-badge.svg\" alt=\"Open In Colab\"/></a>"
      ]
    },
    {
      "cell_type": "code",
      "metadata": {
        "id": "A676nOZprIdx",
        "colab_type": "code",
        "colab": {}
      },
      "source": [
        "import numpy as np\n",
        "import pandas as pd\n",
        "import os\n",
        "import zipfile\n",
        "import matplotlib.pyplot as plt\n"
      ],
      "execution_count": 0,
      "outputs": []
    },
    {
      "cell_type": "code",
      "metadata": {
        "id": "NoTKFmQGl1a8",
        "colab_type": "code",
        "colab": {
          "base_uri": "https://localhost:8080/",
          "height": 136
        },
        "outputId": "d7df29bb-c89f-4edd-e1cc-91af41ced1ac"
      },
      "source": [
        "import nltk\n",
        "nltk.download('punkt')\n",
        "nltk.download('stopwords')\n",
        "from nltk.corpus import stopwords\n",
        "from nltk.stem import SnowballStemmer\n",
        "nltk.download('wordnet')"
      ],
      "execution_count": 313,
      "outputs": [
        {
          "output_type": "stream",
          "text": [
            "[nltk_data] Downloading package punkt to /root/nltk_data...\n",
            "[nltk_data]   Package punkt is already up-to-date!\n",
            "[nltk_data] Downloading package stopwords to /root/nltk_data...\n",
            "[nltk_data]   Package stopwords is already up-to-date!\n",
            "[nltk_data] Downloading package wordnet to /root/nltk_data...\n",
            "[nltk_data]   Package wordnet is already up-to-date!\n"
          ],
          "name": "stdout"
        },
        {
          "output_type": "execute_result",
          "data": {
            "text/plain": [
              "True"
            ]
          },
          "metadata": {
            "tags": []
          },
          "execution_count": 313
        }
      ]
    },
    {
      "cell_type": "code",
      "metadata": {
        "id": "f4W2sCiUJJLP",
        "colab_type": "code",
        "colab": {}
      },
      "source": [
        "from sklearn.preprocessing import MultiLabelBinarizer\n",
        "from sklearn.model_selection import train_test_split"
      ],
      "execution_count": 0,
      "outputs": []
    },
    {
      "cell_type": "code",
      "metadata": {
        "id": "Sht9y2D9L24r",
        "colab_type": "code",
        "colab": {}
      },
      "source": [
        "from sklearn.feature_extraction.text import CountVectorizer\n",
        "import operator"
      ],
      "execution_count": 0,
      "outputs": []
    },
    {
      "cell_type": "code",
      "metadata": {
        "id": "MqNxWsYUKNZV",
        "colab_type": "code",
        "colab": {}
      },
      "source": [
        "from keras.preprocessing.text import Tokenizer\n",
        "from keras.preprocessing.sequence import pad_sequences"
      ],
      "execution_count": 0,
      "outputs": []
    },
    {
      "cell_type": "code",
      "metadata": {
        "id": "S6IPhfXXTRy1",
        "colab_type": "code",
        "colab": {}
      },
      "source": [
        "from keras.layers import Embedding,Conv1D,GlobalMaxPool1D,Dense,Activation,Dropout\n",
        "from keras.models import Sequential"
      ],
      "execution_count": 0,
      "outputs": []
    },
    {
      "cell_type": "code",
      "metadata": {
        "id": "tIduzTwuOrVD",
        "colab_type": "code",
        "colab": {
          "base_uri": "https://localhost:8080/",
          "height": 34
        },
        "outputId": "21f17c6a-1407-48a6-8b66-ddb4a20887aa"
      },
      "source": [
        "!pip install tokenizer"
      ],
      "execution_count": 318,
      "outputs": [
        {
          "output_type": "stream",
          "text": [
            "Requirement already satisfied: tokenizer in /usr/local/lib/python3.6/dist-packages (1.4.1)\n"
          ],
          "name": "stdout"
        }
      ]
    },
    {
      "cell_type": "code",
      "metadata": {
        "id": "jiNToiY8wo8K",
        "colab_type": "code",
        "colab": {}
      },
      "source": [
        "zipref=zipfile.ZipFile(\"Train_tags.zip\")\n",
        "zipref.extractall()\n",
        "zipref.close()\n",
        "zipref=zipfile.ZipFile(\"Train_docs.zip\")\n",
        "zipref.extractall()\n",
        "zipref.close()"
      ],
      "execution_count": 0,
      "outputs": []
    },
    {
      "cell_type": "code",
      "metadata": {
        "id": "kLgpuHgqrcZM",
        "colab_type": "code",
        "colab": {}
      },
      "source": [
        "list1=[]\n",
        "col=[]\n",
        "tags=[]\n",
        "for i in range(80):\n",
        "  list1.append(\"case_{}_statement.txt\".format(i))\n",
        "  col.append(i)\n",
        "  tags.append(\"case{}.txt\".format(i))\n",
        "\n"
      ],
      "execution_count": 0,
      "outputs": []
    },
    {
      "cell_type": "code",
      "metadata": {
        "id": "XVDyxm_ixn2R",
        "colab_type": "code",
        "colab": {}
      },
      "source": [
        "df[\"tag2\"]=listtag"
      ],
      "execution_count": 0,
      "outputs": []
    },
    {
      "cell_type": "code",
      "metadata": {
        "id": "HCzEjAuZ0NGi",
        "colab_type": "code",
        "colab": {}
      },
      "source": [
        "thisset=set()"
      ],
      "execution_count": 0,
      "outputs": []
    },
    {
      "cell_type": "code",
      "metadata": {
        "id": "mnzHBzPT0Pcw",
        "colab_type": "code",
        "colab": {}
      },
      "source": [
        "thisset.add(\"1\")"
      ],
      "execution_count": 0,
      "outputs": []
    },
    {
      "cell_type": "code",
      "metadata": {
        "id": "UCSLCYEU0nqz",
        "colab_type": "code",
        "colab": {}
      },
      "source": [
        "thisset.add(\"2\")\n",
        "thisset.add(\"1\")"
      ],
      "execution_count": 0,
      "outputs": []
    },
    {
      "cell_type": "code",
      "metadata": {
        "id": "vakmRdoc0trP",
        "colab_type": "code",
        "colab": {
          "base_uri": "https://localhost:8080/",
          "height": 34
        },
        "outputId": "57ec3ffa-1de6-4d14-c211-82d1e8cc4be0"
      },
      "source": [
        "thisset"
      ],
      "execution_count": 381,
      "outputs": [
        {
          "output_type": "execute_result",
          "data": {
            "text/plain": [
              "{'1', '2'}"
            ]
          },
          "metadata": {
            "tags": []
          },
          "execution_count": 381
        }
      ]
    },
    {
      "cell_type": "code",
      "metadata": {
        "id": "26Isq8FByDld",
        "colab_type": "code",
        "colab": {}
      },
      "source": [
        "thisset=set()\n",
        "newset=[]\n",
        "for i in listtag:\n",
        "  for word in i.split():\n",
        "    thisset.add(word)\n",
        "    newset.append(word)\n"
      ],
      "execution_count": 0,
      "outputs": []
    },
    {
      "cell_type": "code",
      "metadata": {
        "id": "-JCAuHTn06Kg",
        "colab_type": "code",
        "colab": {
          "base_uri": "https://localhost:8080/",
          "height": 34
        },
        "outputId": "579764fd-e2ec-4b7b-c240-28a12138ccff"
      },
      "source": [
        "len(newset)"
      ],
      "execution_count": 390,
      "outputs": [
        {
          "output_type": "execute_result",
          "data": {
            "text/plain": [
              "3625"
            ]
          },
          "metadata": {
            "tags": []
          },
          "execution_count": 390
        }
      ]
    },
    {
      "cell_type": "code",
      "metadata": {
        "id": "aDNNCc7t1kGf",
        "colab_type": "code",
        "colab": {}
      },
      "source": [
        "\n",
        "all_genres = nltk.FreqDist(newset) \n",
        "dftag1=pd.DataFrame()\n",
        "dftag1[\"tag\"]=all_genres.keys()\n",
        "dftag1[\"count\"]=all_genres.values()"
      ],
      "execution_count": 0,
      "outputs": []
    },
    {
      "cell_type": "code",
      "metadata": {
        "id": "3zhtlZZ51pmg",
        "colab_type": "code",
        "colab": {}
      },
      "source": [
        "g = dftag1.nlargest(columns=\"count\", n = 50) "
      ],
      "execution_count": 0,
      "outputs": []
    },
    {
      "cell_type": "code",
      "metadata": {
        "id": "uiAJHlx2tNT6",
        "colab_type": "code",
        "colab": {
          "base_uri": "https://localhost:8080/",
          "height": 1000
        },
        "outputId": "edb0da51-d552-4a58-a2cc-1b3027ddd48f"
      },
      "source": [
        "g"
      ],
      "execution_count": 397,
      "outputs": [
        {
          "output_type": "execute_result",
          "data": {
            "text/html": [
              "<div>\n",
              "<style scoped>\n",
              "    .dataframe tbody tr th:only-of-type {\n",
              "        vertical-align: middle;\n",
              "    }\n",
              "\n",
              "    .dataframe tbody tr th {\n",
              "        vertical-align: top;\n",
              "    }\n",
              "\n",
              "    .dataframe thead th {\n",
              "        text-align: right;\n",
              "    }\n",
              "</style>\n",
              "<table border=\"1\" class=\"dataframe\">\n",
              "  <thead>\n",
              "    <tr style=\"text-align: right;\">\n",
              "      <th></th>\n",
              "      <th>tag</th>\n",
              "      <th>count</th>\n",
              "    </tr>\n",
              "  </thead>\n",
              "  <tbody>\n",
              "    <tr>\n",
              "      <th>1</th>\n",
              "      <td>of</td>\n",
              "      <td>175</td>\n",
              "    </tr>\n",
              "    <tr>\n",
              "      <th>22</th>\n",
              "      <td>India,</td>\n",
              "      <td>27</td>\n",
              "    </tr>\n",
              "    <tr>\n",
              "      <th>25</th>\n",
              "      <td>Order,</td>\n",
              "      <td>27</td>\n",
              "    </tr>\n",
              "    <tr>\n",
              "      <th>420</th>\n",
              "      <td>Of</td>\n",
              "      <td>27</td>\n",
              "    </tr>\n",
              "    <tr>\n",
              "      <th>292</th>\n",
              "      <td>Court,</td>\n",
              "      <td>25</td>\n",
              "    </tr>\n",
              "    <tr>\n",
              "      <th>325</th>\n",
              "      <td>to</td>\n",
              "      <td>22</td>\n",
              "    </tr>\n",
              "    <tr>\n",
              "      <th>505</th>\n",
              "      <td>the</td>\n",
              "      <td>22</td>\n",
              "    </tr>\n",
              "    <tr>\n",
              "      <th>99</th>\n",
              "      <td>Appeal,</td>\n",
              "      <td>21</td>\n",
              "    </tr>\n",
              "    <tr>\n",
              "      <th>309</th>\n",
              "      <td>Public</td>\n",
              "      <td>20</td>\n",
              "    </tr>\n",
              "    <tr>\n",
              "      <th>150</th>\n",
              "      <td>Judicial</td>\n",
              "      <td>19</td>\n",
              "    </tr>\n",
              "    <tr>\n",
              "      <th>31</th>\n",
              "      <td>Compensation,</td>\n",
              "      <td>18</td>\n",
              "    </tr>\n",
              "    <tr>\n",
              "      <th>11</th>\n",
              "      <td>Evidence,</td>\n",
              "      <td>17</td>\n",
              "    </tr>\n",
              "    <tr>\n",
              "      <th>706</th>\n",
              "      <td>Possession,</td>\n",
              "      <td>17</td>\n",
              "    </tr>\n",
              "    <tr>\n",
              "      <th>33</th>\n",
              "      <td>Right,</td>\n",
              "      <td>16</td>\n",
              "    </tr>\n",
              "    <tr>\n",
              "      <th>148</th>\n",
              "      <td>Interest,</td>\n",
              "      <td>16</td>\n",
              "    </tr>\n",
              "    <tr>\n",
              "      <th>189</th>\n",
              "      <td>Officer,</td>\n",
              "      <td>16</td>\n",
              "    </tr>\n",
              "    <tr>\n",
              "      <th>288</th>\n",
              "      <td>Power,</td>\n",
              "      <td>16</td>\n",
              "    </tr>\n",
              "    <tr>\n",
              "      <th>289</th>\n",
              "      <td>Jurisdiction,</td>\n",
              "      <td>16</td>\n",
              "    </tr>\n",
              "    <tr>\n",
              "      <th>316</th>\n",
              "      <td>Proceeding,</td>\n",
              "      <td>16</td>\n",
              "    </tr>\n",
              "    <tr>\n",
              "      <th>262</th>\n",
              "      <td>Constitution</td>\n",
              "      <td>15</td>\n",
              "    </tr>\n",
              "    <tr>\n",
              "      <th>454</th>\n",
              "      <td>Parliament,</td>\n",
              "      <td>15</td>\n",
              "    </tr>\n",
              "    <tr>\n",
              "      <th>14</th>\n",
              "      <td>Witness,</td>\n",
              "      <td>14</td>\n",
              "    </tr>\n",
              "    <tr>\n",
              "      <th>147</th>\n",
              "      <td>Information,</td>\n",
              "      <td>14</td>\n",
              "    </tr>\n",
              "    <tr>\n",
              "      <th>180</th>\n",
              "      <td>Act,</td>\n",
              "      <td>14</td>\n",
              "    </tr>\n",
              "    <tr>\n",
              "      <th>546</th>\n",
              "      <td>Rent,</td>\n",
              "      <td>14</td>\n",
              "    </tr>\n",
              "    <tr>\n",
              "      <th>280</th>\n",
              "      <td>Law,</td>\n",
              "      <td>13</td>\n",
              "    </tr>\n",
              "    <tr>\n",
              "      <th>488</th>\n",
              "      <td>State,</td>\n",
              "      <td>13</td>\n",
              "    </tr>\n",
              "    <tr>\n",
              "      <th>112</th>\n",
              "      <td>Charge,</td>\n",
              "      <td>12</td>\n",
              "    </tr>\n",
              "    <tr>\n",
              "      <th>128</th>\n",
              "      <td>Duty,</td>\n",
              "      <td>12</td>\n",
              "    </tr>\n",
              "    <tr>\n",
              "      <th>171</th>\n",
              "      <td>Service,</td>\n",
              "      <td>12</td>\n",
              "    </tr>\n",
              "    <tr>\n",
              "      <th>251</th>\n",
              "      <td>Justice,</td>\n",
              "      <td>12</td>\n",
              "    </tr>\n",
              "    <tr>\n",
              "      <th>259</th>\n",
              "      <td>for</td>\n",
              "      <td>12</td>\n",
              "    </tr>\n",
              "    <tr>\n",
              "      <th>297</th>\n",
              "      <td>Legislative</td>\n",
              "      <td>12</td>\n",
              "    </tr>\n",
              "    <tr>\n",
              "      <th>48</th>\n",
              "      <td>Dispute,</td>\n",
              "      <td>11</td>\n",
              "    </tr>\n",
              "    <tr>\n",
              "      <th>113</th>\n",
              "      <td>Claim,</td>\n",
              "      <td>11</td>\n",
              "    </tr>\n",
              "    <tr>\n",
              "      <th>153</th>\n",
              "      <td>Liability,</td>\n",
              "      <td>11</td>\n",
              "    </tr>\n",
              "    <tr>\n",
              "      <th>160</th>\n",
              "      <td>Notice,</td>\n",
              "      <td>11</td>\n",
              "    </tr>\n",
              "    <tr>\n",
              "      <th>203</th>\n",
              "      <td>Case,</td>\n",
              "      <td>11</td>\n",
              "    </tr>\n",
              "    <tr>\n",
              "      <th>278</th>\n",
              "      <td>Offence,</td>\n",
              "      <td>11</td>\n",
              "    </tr>\n",
              "    <tr>\n",
              "      <th>458</th>\n",
              "      <td>Petition,</td>\n",
              "      <td>11</td>\n",
              "    </tr>\n",
              "    <tr>\n",
              "      <th>461</th>\n",
              "      <td>Power</td>\n",
              "      <td>11</td>\n",
              "    </tr>\n",
              "    <tr>\n",
              "      <th>565</th>\n",
              "      <td>Special</td>\n",
              "      <td>11</td>\n",
              "    </tr>\n",
              "    <tr>\n",
              "      <th>8</th>\n",
              "      <td>Death,</td>\n",
              "      <td>10</td>\n",
              "    </tr>\n",
              "    <tr>\n",
              "      <th>94</th>\n",
              "      <td>Authority,</td>\n",
              "      <td>10</td>\n",
              "    </tr>\n",
              "    <tr>\n",
              "      <th>122</th>\n",
              "      <td>Consideration,</td>\n",
              "      <td>10</td>\n",
              "    </tr>\n",
              "    <tr>\n",
              "      <th>166</th>\n",
              "      <td>Person,</td>\n",
              "      <td>10</td>\n",
              "    </tr>\n",
              "    <tr>\n",
              "      <th>214</th>\n",
              "      <td>Contract,</td>\n",
              "      <td>10</td>\n",
              "    </tr>\n",
              "    <tr>\n",
              "      <th>272</th>\n",
              "      <td>State</td>\n",
              "      <td>10</td>\n",
              "    </tr>\n",
              "    <tr>\n",
              "      <th>276</th>\n",
              "      <td>Judgment,</td>\n",
              "      <td>10</td>\n",
              "    </tr>\n",
              "    <tr>\n",
              "      <th>385</th>\n",
              "      <td>Any</td>\n",
              "      <td>10</td>\n",
              "    </tr>\n",
              "  </tbody>\n",
              "</table>\n",
              "</div>"
            ],
            "text/plain": [
              "                tag  count\n",
              "1                of    175\n",
              "22           India,     27\n",
              "25           Order,     27\n",
              "420              Of     27\n",
              "292          Court,     25\n",
              "325              to     22\n",
              "505             the     22\n",
              "99          Appeal,     21\n",
              "309          Public     20\n",
              "150        Judicial     19\n",
              "31    Compensation,     18\n",
              "11        Evidence,     17\n",
              "706     Possession,     17\n",
              "33           Right,     16\n",
              "148       Interest,     16\n",
              "189        Officer,     16\n",
              "288          Power,     16\n",
              "289   Jurisdiction,     16\n",
              "316     Proceeding,     16\n",
              "262    Constitution     15\n",
              "454     Parliament,     15\n",
              "14         Witness,     14\n",
              "147    Information,     14\n",
              "180            Act,     14\n",
              "546           Rent,     14\n",
              "280            Law,     13\n",
              "488          State,     13\n",
              "112         Charge,     12\n",
              "128           Duty,     12\n",
              "171        Service,     12\n",
              "251        Justice,     12\n",
              "259             for     12\n",
              "297     Legislative     12\n",
              "48         Dispute,     11\n",
              "113          Claim,     11\n",
              "153      Liability,     11\n",
              "160         Notice,     11\n",
              "203           Case,     11\n",
              "278        Offence,     11\n",
              "458       Petition,     11\n",
              "461           Power     11\n",
              "565         Special     11\n",
              "8            Death,     10\n",
              "94       Authority,     10\n",
              "122  Consideration,     10\n",
              "166         Person,     10\n",
              "214       Contract,     10\n",
              "272           State     10\n",
              "276       Judgment,     10\n",
              "385             Any     10"
            ]
          },
          "metadata": {
            "tags": []
          },
          "execution_count": 397
        }
      ]
    },
    {
      "cell_type": "code",
      "metadata": {
        "id": "dmTj_oALvPb4",
        "colab_type": "code",
        "colab": {}
      },
      "source": [
        "df=pd.DataFrame(data)"
      ],
      "execution_count": 0,
      "outputs": []
    },
    {
      "cell_type": "code",
      "metadata": {
        "id": "7p7ydWOyvQ9x",
        "colab_type": "code",
        "colab": {}
      },
      "source": [
        "df['index']=col"
      ],
      "execution_count": 0,
      "outputs": []
    },
    {
      "cell_type": "code",
      "metadata": {
        "id": "_C-bX0pEwDpA",
        "colab_type": "code",
        "colab": {}
      },
      "source": [
        "path='../content/Train_tags'"
      ],
      "execution_count": 0,
      "outputs": []
    },
    {
      "cell_type": "code",
      "metadata": {
        "id": "vPq-Y0H-y31l",
        "colab_type": "code",
        "colab": {}
      },
      "source": [
        "listtag=[]\n",
        "for row in tags:\n",
        "  tag=open(\"../content/Train_tags/\"+row).read()\n",
        "  listtag.append(tag)"
      ],
      "execution_count": 0,
      "outputs": []
    },
    {
      "cell_type": "code",
      "metadata": {
        "id": "A1K-GyeY0i-M",
        "colab_type": "code",
        "colab": {}
      },
      "source": [
        "df['tags']=listtag"
      ],
      "execution_count": 0,
      "outputs": []
    },
    {
      "cell_type": "code",
      "metadata": {
        "id": "vazxjFG00lIb",
        "colab_type": "code",
        "outputId": "5d4390e0-61bf-424e-de20-d983a8fdfc6f",
        "colab": {
          "base_uri": "https://localhost:8080/",
          "height": 34
        }
      },
      "source": [
        "len(listtag)"
      ],
      "execution_count": 327,
      "outputs": [
        {
          "output_type": "execute_result",
          "data": {
            "text/plain": [
              "80"
            ]
          },
          "metadata": {
            "tags": []
          },
          "execution_count": 327
        }
      ]
    },
    {
      "cell_type": "code",
      "metadata": {
        "id": "-xtOueBE3O7d",
        "colab_type": "code",
        "colab": {}
      },
      "source": [
        "vector=CountVectorizer(tokenizer=lambda x:x.split(\",\"))\n",
        "tag=vector.fit_transform(df[\"tags\"])"
      ],
      "execution_count": 0,
      "outputs": []
    },
    {
      "cell_type": "code",
      "metadata": {
        "id": "LQuIYn7XKtVb",
        "colab_type": "code",
        "colab": {
          "base_uri": "https://localhost:8080/",
          "height": 51
        },
        "outputId": "76606c8d-61de-40e9-cba2-30a5997c7ff1"
      },
      "source": [
        "tag"
      ],
      "execution_count": 329,
      "outputs": [
        {
          "output_type": "execute_result",
          "data": {
            "text/plain": [
              "<80x1319 sparse matrix of type '<class 'numpy.int64'>'\n",
              "\twith 2157 stored elements in Compressed Sparse Row format>"
            ]
          },
          "metadata": {
            "tags": []
          },
          "execution_count": 329
        }
      ]
    },
    {
      "cell_type": "code",
      "metadata": {
        "id": "mDtwRRO8K41I",
        "colab_type": "code",
        "colab": {
          "base_uri": "https://localhost:8080/",
          "height": 54
        },
        "outputId": "79797fc2-b60a-493f-b464-1ff04bd5b418"
      },
      "source": [
        "tagname=vector.get_feature_names()\n",
        "print(\"Some tagnames are\",tagname[:-10])"
      ],
      "execution_count": 330,
      "outputs": [
        {
          "output_type": "stream",
          "text": [
            "Some tagnames are [' abetment of suicide', ' absconding', ' access', ' accident', ' accidental death', ' accommodation', ' account', ' account book', ' accounts', ' accusation', ' accused', ' acquisition', ' acquisition proceeding', ' act', ' ad', ' additional advocate general', ' additional evidence', ' adjournment', ' adjudicating authority', ' adjudication', ' adjudication proceeding', ' adjustment', ' administration', ' administration of justice', ' administrative', ' administrative authority', ' administrative power', ' admiralty jurisdiction', ' adoption', ' adoptive parent', ' advance licence', ' adverse entry', ' advertisement', ' advocate general', ' against any liability', ' age', ' agency', ' agent', ' agrarian reform', ' agreement', ' agreement for sale', ' agricultural', ' agricultural land', ' alcoholic liquor', ' allegation of suppression', ' allotment order', ' allotted', ' allottee', ' allowance', ' alternate charge', ' alternative remedy', ' ambiguity', ' amending act', ' amendment', ' amendment act', ' amicus curiae', ' amin', ' amount of compensation', ' amount of compensation awarded', ' amount of fine', ' anatomy', ' ancillary matter', ' animal', ' animal husbandry', ' annual rent', ' annual value', ' any one accident', ' any order', ' any person', ' apparatus', ' appeal', ' appeal against acquittal', ' appellate court', ' appellate tribunal', ' applicability', ' application', ' application of', ' application of article', ' application under', ' appointment', ' apportionment', ' apprehension', ' appropriate', ' appropriate multiplier', ' appropriate proceeding', ' approval', ' approval under', ' arbitrariness', ' armed forces', ' arrear', ' arrears', ' arrears of rent', ' arrest', ' article', ' artificial means', ' assault', ' assent', ' assessee', ' assessing officer', ' assessment', ' asset', ' assets and liabilities', ' assign', ' assigned to the state', ' association', ' assumption', ' assurance', ' attached', ' attempt', ' attorney general', ' attorney general for india', ' attornment', ' auction', ' auditor', ' authentication', ' authorised insurer', ' authority', ' authority of law', ' autopsy', ' award', ' awarded compensation', ' back wage', ' backward class', ' bailee', ' ballot paper', ' bank', ' bankrupt', ' bankruptcy', ' basic feature', ' bearing', ' bench', ' benefit', ' bifr', ' bill', ' binding precedent', ' board', ' board for industrial and financial reconstruction', ' board of director', ' bodily injury', ' bona fide', ' bona fide requirement', ' bonded labour', ' book', ' books', ' books of account', ' brand', ' brand name', ' breach of condition', ' breach of fundamental right', ' breach of trust', ' broker', ' building', ' burden of proof', ' buyer', ' cable', ' cadre', ' calls', ' candidature', ' cap', ' capital offence', ' capital punishment', ' capital structure', ' carriage', ' carrier', ' carrying of passenger', ' carrying passenger', ' case', ' caste', ' casual trader', ' cause of action', ' causing disappearance', ' ceased to occupy', ' cegat', ' cement', ' census', ' central government', ' certificate', ' certificate of insurance', ' cess', ' challenge', ' challenge the award', ' charge', ' charging', ' charging section', ' chemical examination', ' cheque', ' chief justice of high court', ' chief justice of india', ' cinema show', ' circumstantial evidence', ' citizen', ' civil appeal', ' civil court', ' civil service', ' civil suit', ' claim', ' claimant', ' claims', ' claims and objections', ' classification', ' clearance', ' co', ' coercion', ' collector', ' colour', ' commercial', ' commercial purpose', ' commercial transaction', ' commission', ' commission of inquiry', ' commission of offence', ' commission of the offence', ' commissioner', ' commissioner of central excise', \" commissioner's order\", ' commit an offence', ' commit suicide', ' committee', ' commodity', ' company', ' company court', ' compensation', ' compensation amount', ' compensation for', ' compensation for loss', ' compensation payable', ' competent authority', ' competent court', ' complainant', ' complaint', ' complaint under', ' complete justice', ' component', ' composition', ' compromise', ' compulsory insurance', ' compulsory retirement', ' concentration', ' concern', ' concession', ' concurrent jurisdiction', ' concurrent list', ' condition', ' condition excluding', ' condition of the policy', ' condition precedent', ' conditions of insurance', ' conditions of service', ' condonation', ' condonation of delay', ' conduct', ' conduct of election', ' conductor', ' confederation', ' confinement', ' conscious possession', ' consent', ' consideration', ' consignment', ' consolidated fund', ' consolidated fund of india', ' consortium', ' conspiracy', ' constituencies', ' constituency', ' constitution', ' constitution of india', ' constitutional amendment', ' constitutional obligation', ' constitutional validity', ' construction', ' consume', ' consumer', ' consumer dispute', ' consumption', ' contempt', ' contempt petition', ' contentions', ' contingencies', ' continuous service', ' contraband article', ' contract', ' contract carriage', ' contract of employment', ' contract of insurance', ' contract of sale', ' contract of tenancy', ' contract to the contrary', ' contracted load', ' contractual liability', ' contrary', ' contrary to law', ' contravention', ' contributories', ' contributory', ' contributory negligence', ' control', ' control and management', ' control of the union', ' control over subordinate court', ' controller', ' convention', ' conversion', ' convert', ' converted', ' convicted', ' conviction under', ' copy', ' corporation', ' corroboration', ' corruptly making report', ' cost', ' counting', ' court fee', ' court of small cause', ' court shall be deemed to be closed', \" court's power\", ' cover note', ' credit', ' creditors', ' criminal breach of trust', ' criminal conspiracy', ' criminal intimidation', ' criminal liability', ' criminal matter', ' cross', ' cross examination', ' cruelty', ' cruelty by husband', ' culpability', ' cum', ' custody', ' custom', ' customer', ' customs authorities', ' customs duty', ' customs officer', ' damage', ' damages', ' data', ' date', ' date of', ' date of expiry', ' date of the order', ' dealer', ' dealing', ' death', ' death sentence', ' debt', ' decency', ' decision', ' decisive', ' declaration', ' declared by parliament', ' decree', ' decree for ejectment', ' decree for eviction', ' defamation', ' default', ' default in payment', ' default in payment of rent', ' defence', ' defence available', ' defence on merit', ' defence witness', ' deferred payment', ' deficit court fee', ' definition', ' delay', ' delegate', ' delimitation', ' delimitation of constituencies', ' delinquent', ' delivery', ' delivery of possession', ' demand', ' demeanour', ' denial', ' dependency', ' deposit', ' deposit of rent', ' depot', ' derogation of the fundamental right', ' design', ' despatch', ' destroyed', ' destruction', ' determination', ' development', ' different entries', ' differential tariff', ' direct recruit', ' direct recruitment', ' direction', ' directive principle', ' directive principles of state policy', ' director', ' disability', ' disappearance of evidence', ' discharge', ' discharge or dismissal', ' disciplinary', ' disciplinary action', ' discretion', ' discrimination', ' disease', ' dishonest abstraction', ' dishonestly', ' dishonour', ' dismissal', ' dismissal of workman', ' disposal', ' dispossessed', ' dispossession', ' dispute', ' disqualification', ' dissenting judgment', ' distinct offence', ' distribution', ' distribution of legislative power', ' distribution of power', ' district board', ' district judge', ' division', ' division bench', ' doctrine of repugnancy', ' documentary evidence', ' domestic', ' dowry death', ' driving', ' driving licence', ' due', ' due diligence', ' due to negligence', ' duration', ' duty', ' duty of the court', ' dying declaration', ' earnest money', ' earning', ' economic offence', ' education', ' educational institution', ' effects', ' ejectment', ' election', ' election agent', ' electoral college', ' electoral registration officer', ' electoral roll', ' electrical energy', ' electrical inspector', ' electricity bill', ' electricity board', ' electricity charge', ' electricity duty', ' electricity tariff', ' emergency', ' employed', ' employee', ' employer', ' employment', ' enactment', ' endorsement', ' energy charge', ' enforceable right', ' enhancement of compensation', ' enquiry', ' entitled to recover', ' entries in the legislative list', ' epileptic fit', ' equal pay for equal work', ' equality of opportunity', ' equipment', ' equitable', ' equitable distribution', ' establishment', ' estate', ' estate duty', ' estoppel', ' eviction', ' eviction of tenant', ' evidence', ' evidence act', ' evidentiary value', ' excisable goods', ' excise duty', ' exclusion clause', ' executed', ' executing court', ' executive power', ' exemption', ' exemption from duty', ' exemption granted', ' exemption notification', ' exemption of sales tax', ' exercise of legislative power', ' exercise of power', ' existing law', ' expiry of the period', ' export', ' express', ' extended period', ' extension of time', ' extent of repugnancy', ' extraneous grounds', ' eye', ' eye witness', ' eyewitness', ' f.i.r.', ' factor', ' factory', ' factual matrix', ' false information', ' false statement', ' family', ' family court', ' fatal accident', ' father', \" father's right\", ' federal court', ' federalism', ' fee', ' female', ' finance', ' financial assistance', ' financing', ' finding', ' fine', ' fir', ' firm', ' first information report', ' first sale', ' first schedule', ' fixation', ' forest department', ' forfeiture', ' form', ' formation', ' formation of new state', ' forthwith', ' framing of charge', ' franchise', ' fraud', ' free fight', ' freedom of conscience', ' freedom of religion', ' freedom of speech', ' freedom of trade', ' fuel surcharge', ' fundamental right', ' funeral expenses', ' future good', ' gang rape', ' general election', ' general principle', ' general rule', ' generating company', ' generating station', ' generating unit', ' gift', ' give effect to', ' given in adoption', ' giving false information', ' gold', ' good', ' good faith', ' goods', ' goods manufactured', ' goods vehicle', ' governing body', ' government', ' grant', ' granting', ' gratification', ' grid system', ' gross annual rent', ' ground', ' guarantee', ' guardianship', ' guideline', ' guidelines', ' halsbury laws of england', ' harmonious construction', ' heading', ' hearing', ' heir', ' high tension consumer', ' hindu', ' hire', ' hire or reward', ' hire purchase', ' his interest', ' history', ' holder', ' holder in due course', ' hospital', ' houses of parliament', ' human right', ' hypothetical tenant', ' identical', ' identification', ' identification parade', ' illegal', ' illegal gratification', ' illegitimate child', ' illicit article', ' immediate', ' immovable property', ' immunity', ' impleading', ' impleadment', ' implicit reliance', ' import', ' import duty', ' imported', ' imported goods', ' importer', ' imprisonment for life', ' improvement', ' in connection with', ' in respect of passenger', ' income', ' inconsistency between law', ' incurred by him', ' india', ' indian independence act', ' indifference', ' industrial consumer', ' industrial dispute', ' industrial tribunal', ' information', ' injured person', ' injured witness', ' injury', ' innocent person', ' inquiry', ' inspection', ' inspection report', ' installation', ' instruction', ' instrument', ' insurance', ' insurance against third party risk', ' insurance company', ' insurance policy', ' insured', ' insurer', ' intention', ' intention of legislature', ' inter', ' interest', ' interested witness', ' interference', ' interim order', ' interim relief', ' international law', ' interpretation', ' interpretation of statute', ' intervenor', ' intervention', ' invalid', ' investigating officer', ' investigation', ' investigations', ' invoice', ' irregularities', ' issue', ' judge of high court', ' judgment', ' judicial activism', ' judicial authority', ' judicial function', ' judicial member', ' judicial notice', ' judicial officer', ' judicial power', ' judicial proceeding', ' judicial review', ' judicial service', ' jurisdiction', ' jurisdiction of supreme court', ' jurisdiction of the supreme court', ' just and reasonable', ' justification', ' juvenile offender', ' kidnapping', ' lack of jurisdiction', ' land', ' land acquisition', ' landlord', ' landlord and tenant', \" landlord's consent\", \" landlord's title\", ' lapse of time', ' larger bench', ' law made by parliament', ' law made by the legislature', ' lawful title', ' laws made by parliament', ' lead', ' lease', ' lecture', ' legal', ' legal obligation', ' legal position', ' legal possession', ' legal principle', ' legal right', ' legality', ' legislation', ' legislative assembly', ' legislative competence', ' legislative function', ' legislative intent', ' legislative power', ' legislature of the state', ' legitimate expectation', ' letter', ' letters patent', ' letting value', ' liability', ' liability for injury', ' liability of railway', ' liability to pay', ' libel', ' liberal construction', ' liberty', ' licence', ' license', ' life imprisonment', ' limitation', ' limited liability', ' load factor', ' local authority', ' local bodies', ' locus standi', ' locus standi to file', ' lokayukta', ' loss of consortium', ' loss of dependency', ' loss of estate', ' loss of love and affection', ' love and affection', ' magistrate', ' maintainability of appeal', ' maintenance', ' majority judgment', ' malice', ' maliciously', ' management', ' mandamus', ' mandate', ' mandatory', ' mandatory provision', ' mandatory requirement', ' manufacture', ' marginal note', ' market price', ' market value', ' marriage', ' material', ' material fact', ' material irregularity', ' material particular', ' material witness', ' matters of public employment', ' maximum demand', ' mechanically propelled vehicle', ' medical evidence', ' medical examination', ' medical expenses', ' medical expert', ' medical practitioner', ' medical treatment', ' member', ' mens rea', ' mental incapacity', ' meter', ' meter reading', ' minimum sentence', ' minorities', ' minority', ' miscarriage', ' misconduct', ' misleading', ' misrepresentation', ' mistake', ' modernisation', ' mohammedan', ' month', ' monthly rent', ' mortgage', ' mortgagee', ' motor accident', ' motor cab', ' motor cycle', ' motor vehicle', ' motor vehicle accident', ' motor vehicles', ' multiplier', ' municipal act', ' municipal area', ' municipal authorities', ' municipal committee', ' municipal corporation', ' municipal limit', ' name', ' narcotic drug', ' national', ' national commission', ' national highway', ' national human rights commission', ' national interest', ' natural guardian', ' natural justice', ' natural parent', ' nature', ' negatived', ' neglect', ' negligence', ' negligent driving', ' negotiable', ' negotiable instrument', ' nil rate', ' nil rate of duty', ' nominated candidate', ' nomination', ' nomination paper', ' non', ' notice', ' notice under', ' notification', ' nuisance', ' oath', ' oath or affirmation', ' object of section', ' obligation', ' obstruction', ' occupation', ' of deceased', ' offence', ' offence punishable with death', ' officer', ' officer in charge', ' official gazette', ' onerous', ' opportunity of being heard', ' order', ' order of examination', ' order of reference', ' ordinarily resident', ' ordinary prudence', ' original jurisdiction', ' original jurisdiction of the supreme court', ' owner', ' ownership', ' oxygen', ' packing', ' panch witness', ' panchayat', ' pari materia', ' parliament', ' parliament to legislate', ' parliament to regulate', ' parliamentary constituency', ' particular religion', ' parties', ' partition', ' pass', ' passenger', ' patent appeal', ' pay compensation', ' payable', ' payment', ' payment of arrears', ' payment of excise duty', ' payment of rent', ' payment of wage', ' penalty', ' pendency', ' pendency of industrial dispute', ' pendency of proceeding', ' pending', ' performance', ' performing', ' period', ' period of limitation', ' period prescribed', ' permanent disability', ' permanent structure', ' permission', ' perpetrator', ' person', ' persona designata', ' personal expenses', ' personal hearing', ' personal liberty', ' petition', ' physical possession', ' pilferage', ' plaint', ' plea', ' pleading', ' pleadings', ' plenary power', ' police officer', ' policy', ' policy decision', ' policy document', ' policy of insurance', ' policy to cover', ' polling', ' polling station', ' population', ' portion of house', ' position', ' possession', ' post', ' power of judicial review', ' power of legislation', ' power of parliament', ' power of the state', ' power system', ' power to make', ' power to make rule', ' power to regulate', ' powers of legislation', ' powers under', ' precedent', ' preliminary objection', ' premises', ' premium', ' prescribed', ' prescribed period', ' president of india', ' presiding officer', ' presumption', ' prevention of corruption', ' prevention of cruelty', ' previous sanction', ' price', ' prima facie', ' principle', ' principles of interpretation', ' private service vehicle', ' privilege', ' privy council', ' procedural safeguard', ' procedure', ' procedure established by law', ' proceeding', ' proceedings', ' proceedings pending', ' proclamation of emergency', ' profit', ' programme', ' prohibited', ' promotee', ' promotion', ' promotion and seniority', ' promotional', ' promotional post', ' proper officer', ' property', ' property tax', ' proportional representation', ' prosecutrix', ' protection', ' protection of law', ' protest', ' provisional rent', ' psychotropic substance', ' public', ' public auction', ' public holiday', ' public interest', ' public interest litigation', ' public notice', ' public place', ' public servant', ' public service commission', ' public service vehicle', ' punishable with death', ' punishable with imprisonment', ' purchaser', ' purpose of article', ' putative father', ' qualification', ' quashing of proceeding', ' quasi', ' quasiadministration of justice', ' question of law', ' quorum', ' rash and negligent driving', ' rate', ' rate of duty', ' rate of rent', ' rateable value', ' reason', ' reason to believe', ' reasonable', ' reasonable doubt', ' reasonable expense', ' reasonable opportunity', ' reasonable procedure', ' reasonableness', ' receipt', ' recognition', ' recommendation', ' reconstruction', ' record', ' recounting', ' recover possession', ' recovery', ' recovery of possession', ' recruitment', ' reduction', ' reference', ' reference under', ' refusal', ' refused', ' registered letter', ' registration', ' registration of elector', ' registration officer', ' regulation', ' reinstatement', ' relationship', ' relationship of employer and employee', ' relaxation of rule', ' release', ' relevant factor', ' relevant factors', ' relief', ' religious affair', ' religious belief', ' religious denomination', ' religious endowment', ' religious freedom', ' remand', ' remedies', ' remedy', ' remedy under', ' remit', ' removal', ' removal of doubt', ' rent', ' rent control', ' rent control act', ' rent payable', ' repair', ' repeal', ' repealed', ' representation', ' representative', ' repudiation', ' repugnancy', ' requirement', ' requisitioning of property', ' res judicata', ' research', ' reservation of appointment', ' reservations', ' reserve', ' reserves', ' residence', ' residential purpose', ' resistance', ' restoration', ' restoration of possession', ' restored', ' restriction', ' retired judge', ' retrenchment', ' retrospective operation', ' returned candidate', ' returning officer', ' revenue', ' review', ' revision', ' revision of assessment', ' right', ' right conferred', ' right of accused', ' right of equality', ' right of possession', ' right to freedom', ' right to information', ' right to possession', ' right to recover possession', ' right to speedy trial', ' rigorous imprisonment', ' risk', ' rule making power', ' rule of law', ' sale', ' sale deed', ' sale of electricity', ' schedule i', ' scheduled caste', ' scheduled tribe', ' scheme', ' screening an offender', ' scrutiny of nomination', ' seat', ' second appeal', ' secrecy of voting', ' secretary', ' secretary of state', ' securing', ' security', ' seized', ' selection grade', ' seniority', ' sentence', ' separation of power', ' service', ' service jurisprudence', ' service of summon', ' service rule', ' set aside', ' settlement', ' seventh schedule', ' sewage', ' sexual harassment', ' sexual intercourse', ' show cause notice', ' similar', ' single transferable vote', ' slaughter house', ' social justice', ' social reform', ' speaking order', ' special act', ' special leave', ' special leave petition', ' special officer', ' special provision', ' specific performance', ' speedy justice', ' speedy trial', ' stage carriage', ' stage of a judicial proceeding', ' standard of proof', ' standard rent', ' standing order', ' state', ' state commission', ' state electricity board', ' state government', ' state legislature', ' state list', ' state of mind', ' state to secure', ' statement', ' statement on oath', ' statute', ' statutory', ' statutory condition', ' statutory contract', ' statutory liability', ' statutory provision', ' statutory recognition', ' street', ' stridhan', ' structure', ' sub', ' subject', ' subject to the provision', ' subordinate court', ' subordinate judiciary', ' subordinate service', ' succession', ' sufficient cause', ' sufficient reason', ' suit for eviction', ' suit for recovery', ' summon', ' superannuation', ' superintendent', ' suppression', ' suppression of fact', ' surrender', ' survey', ' tada', ' tariff', ' tax', ' taxation', ' taxing statute', ' temple', ' tenancy', ' tenancy act', ' tenancy right', ' tenant', ' tender', ' termination', ' termination of tenancy', ' terms', ' territory of india', ' test', ' test identification parade', ' test identification paradeassault', ' the executive', ' the prescribed period', ' the property', ' third party risk', ' ticket', ' time barred', ' title', ' title of the landlord', ' trade and commerce', ' transfer', ' transfer of property', ' transferable vote', ' transferred', ' transport', ' transport vehicle', ' transportation', ' treatment', ' trial', ' trial court', ' tribunal', ' unauthorised construction', ' under consideration', ' undertrial', ' undertrial accused', ' undue delay', ' unfair labour practice', ' union list', ' union territories', ' union territory', ' untouchability', ' upper', ' vacancies', ' vacate', ' vagueness', ' validity', ' valuable security', ' value', ' value of land', ' vehicle', ' vehicle insured', ' vehicle of any other class', ' vehicles', ' vicarious liability', ' violation of article', ' vote', ' voter', ' waiver', ' wasted vote', ' welfare', ' without prejudice', ' without prejudiceadministrative action', ' witness', ' work', ' writ', ' writ jurisdiction', ' writ of mandamus', ' writ petition', ' writing', ' written statement', 'abandoned', 'abandonment', 'abetment', 'absence', 'absorption', 'abstraction', 'abuse of process', 'abuse of process of court', 'acceptance', 'accessories', 'accident', 'accommodation', 'account', 'accumulated profit', 'accused', 'acknowledgement', 'acquisition', 'act', 'act of omission', 'acting chief justice', 'actionable claim', 'ad', 'adjudication', 'administration of justice', 'administrative', 'administrative action', 'admission', 'advocate general', 'affirmation', 'agreement', 'allotment', 'aluminium', 'amendment', 'amicus curiae', 'annual letting value', 'appeal', 'appealable order', 'application', 'appointment', 'appreciation of evidence', 'appropriation', 'assault', 'attesting witness', 'bank', 'baseless', 'benefit of doubt', 'cause of action']\n"
          ],
          "name": "stdout"
        }
      ]
    },
    {
      "cell_type": "code",
      "metadata": {
        "id": "W-S13DF_P0st",
        "colab_type": "code",
        "colab": {}
      },
      "source": [
        "freq=tag.sum(axis=0).A1\n",
        "result=dict(zip(tagname,freq))"
      ],
      "execution_count": 0,
      "outputs": []
    },
    {
      "cell_type": "code",
      "metadata": {
        "id": "Y7qdiOiRRSOy",
        "colab_type": "code",
        "colab": {}
      },
      "source": [
        "sortedx=sorted(result.items(),key=operator.itemgetter(1),reverse=True)"
      ],
      "execution_count": 0,
      "outputs": []
    },
    {
      "cell_type": "code",
      "metadata": {
        "id": "MhnXftaWRT8A",
        "colab_type": "code",
        "colab": {}
      },
      "source": [
        "dftag=pd.DataFrame(sortedx)\n"
      ],
      "execution_count": 0,
      "outputs": []
    },
    {
      "cell_type": "code",
      "metadata": {
        "id": "hHo81HQcW6DP",
        "colab_type": "code",
        "colab": {
          "base_uri": "https://localhost:8080/",
          "height": 265
        },
        "outputId": "79f5cf48-706c-412f-c8c4-f09a67675d24"
      },
      "source": [
        "plt.plot(dftag[1])\n",
        "plt.show()"
      ],
      "execution_count": 334,
      "outputs": [
        {
          "output_type": "display_data",
          "data": {
            "image/png": "[encoded data removed]",
            "text/plain": [
              "<Figure size 432x288 with 1 Axes>"
            ]
          },
          "metadata": {
            "tags": []
          }
        }
      ]
    },
    {
      "cell_type": "code",
      "metadata": {
        "id": "X8_7mw8unzZc",
        "colab_type": "code",
        "colab": {}
      },
      "source": [
        "\n",
        "list1=[]\n",
        "stop=set(stopwords.words(\"english\"))\n",
        "ps=PorterStemmer()\n",
        "lemmatizer=WordNetLemmatizer()\n",
        "train_df=pd.DataFrame()\n",
        "train_df['name']=[]\n",
        "for name in df.name:\n",
        "  texts=[]\n",
        "  x=open(\"../content/Train_docs/\"+name,\"r\",encoding = \"ISO-8859-1\").read()\n",
        "  for line in x.split(\"\\n\"):\n",
        "    texts.append(\" \".join(lemmatizer.lemmatize(word) for word in line.split() if word not in stop))\n",
        "  list1.append(texts)\n",
        "  "
      ],
      "execution_count": 0,
      "outputs": []
    },
    {
      "cell_type": "code",
      "metadata": {
        "id": "69VHwnvToBc6",
        "colab_type": "code",
        "colab": {}
      },
      "source": [
        "train_df[\"name\"]=list1"
      ],
      "execution_count": 0,
      "outputs": []
    },
    {
      "cell_type": "code",
      "metadata": {
        "id": "g-W6qpwkEpx1",
        "colab_type": "code",
        "colab": {
          "base_uri": "https://localhost:8080/",
          "height": 34
        },
        "outputId": "fadb50a4-0b2a-48f9-90af-8136c1ecbb04"
      },
      "source": [
        "type(train_df[\"name\"])"
      ],
      "execution_count": 337,
      "outputs": [
        {
          "output_type": "execute_result",
          "data": {
            "text/plain": [
              "pandas.core.series.Series"
            ]
          },
          "metadata": {
            "tags": []
          },
          "execution_count": 337
        }
      ]
    },
    {
      "cell_type": "code",
      "metadata": {
        "id": "Kbwb3X4fx3nv",
        "colab_type": "code",
        "colab": {}
      },
      "source": [
        "from nltk.stem import PorterStemmer\n",
        "from nltk.stem import WordNetLemmatizer"
      ],
      "execution_count": 0,
      "outputs": []
    },
    {
      "cell_type": "code",
      "metadata": {
        "id": "Qj26QxAR2Pog",
        "colab_type": "code",
        "colab": {}
      },
      "source": [
        "train_df[\"tags\"]=listtag"
      ],
      "execution_count": 0,
      "outputs": []
    },
    {
      "cell_type": "code",
      "metadata": {
        "id": "HCieBPuaHbRe",
        "colab_type": "code",
        "colab": {}
      },
      "source": [
        "num_classes=500\n",
        "grouped_tags=train_df.groupby(\"tags\").size().reset_index(name='count')\n",
        "most_common_tags=grouped_tags.nlargest(num_classes,columns='count')\n"
      ],
      "execution_count": 0,
      "outputs": []
    },
    {
      "cell_type": "code",
      "metadata": {
        "id": "IsCYpiCrGeV4",
        "colab_type": "code",
        "colab": {}
      },
      "source": [
        "train_df[\"tags\"]=train_df[\"tags\"].map(lambda x:x.split(\",\"))"
      ],
      "execution_count": 0,
      "outputs": []
    },
    {
      "cell_type": "code",
      "metadata": {
        "id": "OWZxDRyFGgSH",
        "colab_type": "code",
        "colab": {
          "base_uri": "https://localhost:8080/",
          "height": 419
        },
        "outputId": "cdd4b006-c6a5-4655-a66f-acde0f5bf038"
      },
      "source": [
        "grouped_tags"
      ],
      "execution_count": 342,
      "outputs": [
        {
          "output_type": "execute_result",
          "data": {
            "text/html": [
              "<div>\n",
              "<style scoped>\n",
              "    .dataframe tbody tr th:only-of-type {\n",
              "        vertical-align: middle;\n",
              "    }\n",
              "\n",
              "    .dataframe tbody tr th {\n",
              "        vertical-align: top;\n",
              "    }\n",
              "\n",
              "    .dataframe thead th {\n",
              "        text-align: right;\n",
              "    }\n",
              "</style>\n",
              "<table border=\"1\" class=\"dataframe\">\n",
              "  <thead>\n",
              "    <tr style=\"text-align: right;\">\n",
              "      <th></th>\n",
              "      <th>tags</th>\n",
              "      <th>count</th>\n",
              "    </tr>\n",
              "  </thead>\n",
              "  <tbody>\n",
              "    <tr>\n",
              "      <th>0</th>\n",
              "      <td>Abandoned, Adjudication, Adjudication Proceedi...</td>\n",
              "      <td>1</td>\n",
              "    </tr>\n",
              "    <tr>\n",
              "      <th>1</th>\n",
              "      <td>Abandonment, Account, Bill, Capital Structure,...</td>\n",
              "      <td>1</td>\n",
              "    </tr>\n",
              "    <tr>\n",
              "      <th>2</th>\n",
              "      <td>Abetment, Abetment of Suicide, Absconding, Acc...</td>\n",
              "      <td>1</td>\n",
              "    </tr>\n",
              "    <tr>\n",
              "      <th>3</th>\n",
              "      <td>Abetment, Abetment of Suicide, Alternate Charg...</td>\n",
              "      <td>1</td>\n",
              "    </tr>\n",
              "    <tr>\n",
              "      <th>4</th>\n",
              "      <td>Abetment, Abetment of Suicide, Circumstantial ...</td>\n",
              "      <td>1</td>\n",
              "    </tr>\n",
              "    <tr>\n",
              "      <th>...</th>\n",
              "      <td>...</td>\n",
              "      <td>...</td>\n",
              "    </tr>\n",
              "    <tr>\n",
              "      <th>74</th>\n",
              "      <td>Constitutional Validity, Defamation</td>\n",
              "      <td>1</td>\n",
              "    </tr>\n",
              "    <tr>\n",
              "      <th>75</th>\n",
              "      <td>Contempt of Court, False Statement, Legal Obli...</td>\n",
              "      <td>1</td>\n",
              "    </tr>\n",
              "    <tr>\n",
              "      <th>76</th>\n",
              "      <td>Daily Wage, Discharge, Dismissal, Equal Pay fo...</td>\n",
              "      <td>1</td>\n",
              "    </tr>\n",
              "    <tr>\n",
              "      <th>77</th>\n",
              "      <td>Decision, Exemption, Exemption Notification, I...</td>\n",
              "      <td>1</td>\n",
              "    </tr>\n",
              "    <tr>\n",
              "      <th>78</th>\n",
              "      <td>Promotion</td>\n",
              "      <td>1</td>\n",
              "    </tr>\n",
              "  </tbody>\n",
              "</table>\n",
              "<p>79 rows × 2 columns</p>\n",
              "</div>"
            ],
            "text/plain": [
              "                                                 tags  count\n",
              "0   Abandoned, Adjudication, Adjudication Proceedi...      1\n",
              "1   Abandonment, Account, Bill, Capital Structure,...      1\n",
              "2   Abetment, Abetment of Suicide, Absconding, Acc...      1\n",
              "3   Abetment, Abetment of Suicide, Alternate Charg...      1\n",
              "4   Abetment, Abetment of Suicide, Circumstantial ...      1\n",
              "..                                                ...    ...\n",
              "74                Constitutional Validity, Defamation      1\n",
              "75  Contempt of Court, False Statement, Legal Obli...      1\n",
              "76  Daily Wage, Discharge, Dismissal, Equal Pay fo...      1\n",
              "77  Decision, Exemption, Exemption Notification, I...      1\n",
              "78                                          Promotion      1\n",
              "\n",
              "[79 rows x 2 columns]"
            ]
          },
          "metadata": {
            "tags": []
          },
          "execution_count": 342
        }
      ]
    },
    {
      "cell_type": "code",
      "metadata": {
        "id": "3pqDJV-DHHzd",
        "colab_type": "code",
        "colab": {}
      },
      "source": [
        "multilabel_binarizer=MultiLabelBinarizer()\n",
        "multilabel_binarizer.fit(train_df[\"tags\"])\n",
        "labels=multilabel_binarizer.classes_"
      ],
      "execution_count": 0,
      "outputs": []
    },
    {
      "cell_type": "code",
      "metadata": {
        "id": "jfRcP5GLJiah",
        "colab_type": "code",
        "colab": {
          "base_uri": "https://localhost:8080/",
          "height": 34
        },
        "outputId": "4d74ee76-2e34-4f1d-f2f5-24dfcc17077b"
      },
      "source": [
        "len(labels)"
      ],
      "execution_count": 344,
      "outputs": [
        {
          "output_type": "execute_result",
          "data": {
            "text/plain": [
              "1322"
            ]
          },
          "metadata": {
            "tags": []
          },
          "execution_count": 344
        }
      ]
    },
    {
      "cell_type": "code",
      "metadata": {
        "id": "iBocKBovJjyS",
        "colab_type": "code",
        "colab": {}
      },
      "source": [
        "maxlen=500\n",
        "max_words=20000\n",
        "tokenizer=Tokenizer(num_words=max_words,lower=True)\n",
        "tokenizer.fit_on_texts(train_df[\"name\"])"
      ],
      "execution_count": 0,
      "outputs": []
    },
    {
      "cell_type": "code",
      "metadata": {
        "id": "8ye6nPCyK9Jx",
        "colab_type": "code",
        "colab": {
          "base_uri": "https://localhost:8080/",
          "height": 34
        },
        "outputId": "a9bfef68-09b0-423a-8d0f-3b2c2abffe9b"
      },
      "source": [
        "tokenizer"
      ],
      "execution_count": 346,
      "outputs": [
        {
          "output_type": "execute_result",
          "data": {
            "text/plain": [
              "<keras_preprocessing.text.Tokenizer at 0x7fa38bfd8cf8>"
            ]
          },
          "metadata": {
            "tags": []
          },
          "execution_count": 346
        }
      ]
    },
    {
      "cell_type": "code",
      "metadata": {
        "id": "J7RYrAqWK_Ad",
        "colab_type": "code",
        "colab": {}
      },
      "source": [
        "def get_features(text_series):\n",
        "  sequences=tokenizer.texts_to_sequences(text_series)\n",
        "  return pad_sequences(sequences,maxlen=maxlen)"
      ],
      "execution_count": 0,
      "outputs": []
    },
    {
      "cell_type": "code",
      "metadata": {
        "id": "rS85_iuaMYbv",
        "colab_type": "code",
        "colab": {}
      },
      "source": [
        "x=get_features(train_df[\"name\"])\n",
        "y=multilabel_binarizer.transform(train_df[\"tags\"])"
      ],
      "execution_count": 0,
      "outputs": []
    },
    {
      "cell_type": "code",
      "metadata": {
        "id": "hXu_jqDbREEt",
        "colab_type": "code",
        "colab": {}
      },
      "source": [
        "x_train,x_test,y_train,y_test=train_test_split(x,y,test_size=0.2,random_state=47)"
      ],
      "execution_count": 0,
      "outputs": []
    },
    {
      "cell_type": "code",
      "metadata": {
        "id": "eiwy-5bPRZPL",
        "colab_type": "code",
        "colab": {
          "base_uri": "https://localhost:8080/",
          "height": 34
        },
        "outputId": "7eb38757-6209-4c01-d48b-4cf93556801d"
      },
      "source": [
        "len(x_train)"
      ],
      "execution_count": 350,
      "outputs": [
        {
          "output_type": "execute_result",
          "data": {
            "text/plain": [
              "64"
            ]
          },
          "metadata": {
            "tags": []
          },
          "execution_count": 350
        }
      ]
    },
    {
      "cell_type": "code",
      "metadata": {
        "id": "MBdhFcRGRdJD",
        "colab_type": "code",
        "colab": {
          "base_uri": "https://localhost:8080/",
          "height": 357
        },
        "outputId": "f9954b8d-0061-4a2d-bbe1-95b97e4badc0"
      },
      "source": [
        "filter_length=300\n",
        "num_classes=1322\n",
        "model=Sequential()\n",
        "model.add(Embedding(max_words,20,input_length=maxlen))\n",
        "model.add(Dropout(0.1))\n",
        "model.add(Conv1D(filter_length,3,padding='valid',activation='relu',strides=1))\n",
        "model.add(GlobalMaxPool1D())\n",
        "model.add(Dense(num_classes))\n",
        "model.add(Activation('sigmoid'))\n",
        "\n",
        "model.compile(optimizer='adam',loss='binary_crossentropy',metrics=['categorical_accuracy'])\n",
        "model.summary()"
      ],
      "execution_count": 351,
      "outputs": [
        {
          "output_type": "stream",
          "text": [
            "Model: \"sequential_6\"\n",
            "_________________________________________________________________\n",
            "Layer (type)                 Output Shape              Param #   \n",
            "=================================================================\n",
            "embedding_6 (Embedding)      (None, 500, 20)           400000    \n",
            "_________________________________________________________________\n",
            "dropout_5 (Dropout)          (None, 500, 20)           0         \n",
            "_________________________________________________________________\n",
            "conv1d_5 (Conv1D)            (None, 498, 300)          18300     \n",
            "_________________________________________________________________\n",
            "global_max_pooling1d_5 (Glob (None, 300)               0         \n",
            "_________________________________________________________________\n",
            "dense_5 (Dense)              (None, 1322)              397922    \n",
            "_________________________________________________________________\n",
            "activation_5 (Activation)    (None, 1322)              0         \n",
            "=================================================================\n",
            "Total params: 816,222\n",
            "Trainable params: 816,222\n",
            "Non-trainable params: 0\n",
            "_________________________________________________________________\n"
          ],
          "name": "stdout"
        }
      ]
    },
    {
      "cell_type": "code",
      "metadata": {
        "id": "xYL5ewrHV5FO",
        "colab_type": "code",
        "colab": {
          "base_uri": "https://localhost:8080/",
          "height": 183
        },
        "outputId": "9f4879ce-9124-46b9-eab4-8706211b86e8"
      },
      "source": [
        "callbacks=[ReduceLROnPlateau(),EarlyStopping(patience=4),ModelCheckpoint(filepath='model-conv1d.h5',save_best_only=True)]"
      ],
      "execution_count": 352,
      "outputs": [
        {
          "output_type": "error",
          "ename": "NameError",
          "evalue": "ignored",
          "traceback": [
            "\u001b[0;31m---------------------------------------------------------------------------\u001b[0m",
            "\u001b[0;31mNameError\u001b[0m                                 Traceback (most recent call last)",
            "\u001b[0;32m<ipython-input-352-085a32f739be>\u001b[0m in \u001b[0;36m<module>\u001b[0;34m()\u001b[0m\n\u001b[0;32m----> 1\u001b[0;31m \u001b[0mcallbacks\u001b[0m\u001b[0;34m=\u001b[0m\u001b[0;34m[\u001b[0m\u001b[0mReduceLROnPlateau\u001b[0m\u001b[0;34m(\u001b[0m\u001b[0;34m)\u001b[0m\u001b[0;34m,\u001b[0m\u001b[0mEarlyStopping\u001b[0m\u001b[0;34m(\u001b[0m\u001b[0mpatience\u001b[0m\u001b[0;34m=\u001b[0m\u001b[0;36m4\u001b[0m\u001b[0;34m)\u001b[0m\u001b[0;34m,\u001b[0m\u001b[0mModelCheckpoint\u001b[0m\u001b[0;34m(\u001b[0m\u001b[0mfilepath\u001b[0m\u001b[0;34m=\u001b[0m\u001b[0;34m'model-conv1d.h5'\u001b[0m\u001b[0;34m,\u001b[0m\u001b[0msave_best_only\u001b[0m\u001b[0;34m=\u001b[0m\u001b[0;32mTrue\u001b[0m\u001b[0;34m)\u001b[0m\u001b[0;34m]\u001b[0m\u001b[0;34m\u001b[0m\u001b[0;34m\u001b[0m\u001b[0m\n\u001b[0m",
            "\u001b[0;31mNameError\u001b[0m: name 'ReduceLROnPlateau' is not defined"
          ]
        }
      ]
    },
    {
      "cell_type": "code",
      "metadata": {
        "id": "iGM6oJ7MXBJK",
        "colab_type": "code",
        "colab": {}
      },
      "source": [
        "history=model.fit(x_train,y_train,epochs=50,batch_size=16,validation_split=0.1)"
      ],
      "execution_count": 0,
      "outputs": []
    },
    {
      "cell_type": "code",
      "metadata": {
        "id": "561s3nTPYGk7",
        "colab_type": "code",
        "colab": {}
      },
      "source": [
        "t=model.predict(x_test)"
      ],
      "execution_count": 0,
      "outputs": []
    },
    {
      "cell_type": "code",
      "metadata": {
        "id": "fb595aHaY-0v",
        "colab_type": "code",
        "colab": {}
      },
      "source": [
        "model.evaluate(x=x_test,y=y_test)"
      ],
      "execution_count": 0,
      "outputs": []
    },
    {
      "cell_type": "code",
      "metadata": {
        "id": "QEIpUgdOZ1fy",
        "colab_type": "code",
        "colab": {}
      },
      "source": [
        "from sklearn.metrics import accuracy_score\n",
        "accuracy_score(y_test,t)"
      ],
      "execution_count": 0,
      "outputs": []
    },
    {
      "cell_type": "code",
      "metadata": {
        "id": "BPO1tj5saOek",
        "colab_type": "code",
        "colab": {}
      },
      "source": [
        "multilabel_binarizer.inverse_transform(y_test)[3]"
      ],
      "execution_count": 0,
      "outputs": []
    },
    {
      "cell_type": "code",
      "metadata": {
        "id": "4gMQt5ysf-y9",
        "colab_type": "code",
        "colab": {}
      },
      "source": [
        ""
      ],
      "execution_count": 0,
      "outputs": []
    }
  ]
}